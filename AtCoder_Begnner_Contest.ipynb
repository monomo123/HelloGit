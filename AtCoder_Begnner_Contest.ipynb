{
 "cells": [
  {
   "cell_type": "code",
   "execution_count": null,
   "metadata": {},
   "outputs": [],
   "source": [
    "#100 A"
   ]
  },
  {
   "cell_type": "code",
   "execution_count": 2,
   "metadata": {},
   "outputs": [
    {
     "name": "stdout",
     "output_type": "stream",
     "text": [
      "7 7\n",
      "Yay!\n"
     ]
    }
   ],
   "source": [
    "A,B=tuple(map(int,input().split()))\n",
    "if A<=8 and B<=8:\n",
    "    ans=\"Yay!\"\n",
    "else:\n",
    "    ans=\":(\"\n",
    "print(ans)"
   ]
  },
  {
   "cell_type": "code",
   "execution_count": null,
   "metadata": {},
   "outputs": [],
   "source": [
    "#126 B"
   ]
  },
  {
   "cell_type": "code",
   "execution_count": null,
   "metadata": {},
   "outputs": [],
   "source": [
    "S=input()\n",
    "A=int(S[0:2])\n",
    "B=int(S[2:4])\n",
    "if 1<=A<=12:\n",
    "    if 1<=B<=12:\n",
    "        ans=\"AMBIGUOUS\"\n",
    "    else:\n",
    "        ans=\"MMYY\"\n",
    "else:\n",
    "    if 1<=B<=12:\n",
    "        ans=\"YYMM\"\n",
    "    else:\n",
    "        ans=\"NA\"\n",
    "print(ans)"
   ]
  },
  {
   "cell_type": "code",
   "execution_count": null,
   "metadata": {},
   "outputs": [],
   "source": [
    "#125 B"
   ]
  },
  {
   "cell_type": "code",
   "execution_count": 9,
   "metadata": {},
   "outputs": [
    {
     "name": "stdout",
     "output_type": "stream",
     "text": [
      "3\n",
      "10 8 10\n",
      "10 10 3\n",
      "7\n"
     ]
    }
   ],
   "source": [
    "N=int(input())\n",
    "A=list(map(int,input().split()))\n",
    "B=list(map(int,input().split()))\n",
    "ans=0\n",
    "for i in range(N):\n",
    "    if A[i]-B[i]>=0:\n",
    "        ans +=A[i]-B[i]\n",
    "print(ans)"
   ]
  },
  {
   "cell_type": "code",
   "execution_count": 1,
   "metadata": {},
   "outputs": [],
   "source": [
    "#124 B"
   ]
  },
  {
   "cell_type": "code",
   "execution_count": 32,
   "metadata": {},
   "outputs": [
    {
     "name": "stdout",
     "output_type": "stream",
     "text": [
      "5\n",
      "9 9 9 9 9\n",
      "5\n"
     ]
    }
   ],
   "source": [
    "N=input()\n",
    "A=list(map(int,input().split()))\n",
    "ans=0\n",
    "for i in range(int(N)):\n",
    "    B=0\n",
    "    for j in range(i):\n",
    "        if A[i]-A[j]>=0:\n",
    "            B+=1\n",
    "    if B==i:\n",
    "        ans+=1\n",
    "print(ans)    "
   ]
  },
  {
   "cell_type": "code",
   "execution_count": 1,
   "metadata": {},
   "outputs": [],
   "source": []
  },
  {
   "cell_type": "code",
   "execution_count": null,
   "metadata": {},
   "outputs": [],
   "source": []
  }
 ],
 "metadata": {
  "kernelspec": {
   "display_name": "Python 3",
   "language": "python",
   "name": "python3"
  },
  "language_info": {
   "codemirror_mode": {
    "name": "ipython",
    "version": 3
   },
   "file_extension": ".py",
   "mimetype": "text/x-python",
   "name": "python",
   "nbconvert_exporter": "python",
   "pygments_lexer": "ipython3",
   "version": "3.7.3"
  }
 },
 "nbformat": 4,
 "nbformat_minor": 2
}
