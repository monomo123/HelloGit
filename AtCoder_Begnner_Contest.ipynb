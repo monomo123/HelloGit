{
 "cells": [
  {
   "cell_type": "code",
   "execution_count": null,
   "metadata": {},
   "outputs": [],
   "source": [
    "#168 A"
   ]
  },
  {
   "cell_type": "code",
   "execution_count": null,
   "metadata": {},
   "outputs": [],
   "source": [
    "N=str(input())\n",
    "if int(N[-1])==3:\n",
    "    print(\"bon\")\n",
    "elif int(N[-1])==0 or int(N[-1])==1 or int(N[-1])==6 or int(N[-1])==8:\n",
    "    print(\"pon\")\n",
    "else:\n",
    "    print(\"hon\")"
   ]
  },
  {
   "cell_type": "code",
   "execution_count": null,
   "metadata": {},
   "outputs": [],
   "source": [
    "#168 B"
   ]
  },
  {
   "cell_type": "code",
   "execution_count": null,
   "metadata": {},
   "outputs": [],
   "source": [
    "K=int(input())\n",
    "S=str(input())\n",
    "if K<len(S):\n",
    "    print(S[:K]+\"...\")\n",
    "else:\n",
    "    print(S)"
   ]
  },
  {
   "cell_type": "code",
   "execution_count": null,
   "metadata": {},
   "outputs": [],
   "source": [
    "#168 C"
   ]
  },
  {
   "cell_type": "code",
   "execution_count": null,
   "metadata": {},
   "outputs": [],
   "source": [
    "import numpy as np\n",
    "A,B,H,M=map(int,input().split())\n",
    "c=360*np.pi/180\n",
    "k=abs(c/(12*60*60)*(H*60*60+M*60)-c/60*M)\n",
    "print(np.sqrt(A**2+B**2-2*A*B*np.cos(k)))"
   ]
  },
  {
   "cell_type": "code",
   "execution_count": null,
   "metadata": {},
   "outputs": [],
   "source": [
    "#168 D"
   ]
  },
  {
   "cell_type": "code",
   "execution_count": null,
   "metadata": {},
   "outputs": [],
   "source": [
    "N,M=map(int,input().split())\n",
    "a=[]\n",
    "ans=[0]*(N-1)\n",
    "count=0\n",
    "b=1\n",
    "\n",
    "for _ in range(M):\n",
    "    a.append(list(map(int,input().split())))\n",
    "while count<=M:\n",
    "    count+=1\n",
    "    for i in range(M):\n",
    "        for j in range(2):\n",
    "            if a[i][j]==b:\n",
    "                if ans[a[i][1-j]-2]==0:\n",
    "                    ans[a[i][1-j]-2]=count\n",
    "            \n",
    "    b=a[i][1-j]\n",
    "print(ans)"
   ]
  },
  {
   "cell_type": "code",
   "execution_count": 31,
   "metadata": {
    "scrolled": true
   },
   "outputs": [
    {
     "name": "stdout",
     "output_type": "stream",
     "text": [
      "4 4\n",
      "1 2\n",
      "2 3\n",
      "3 4\n",
      "4 2\n",
      "Yes\n",
      "1\n",
      "2\n",
      "2\n"
     ]
    }
   ],
   "source": [
    "N,M = map(int,input().split())\n",
    "a=[[] for _ in range(N)]\n",
    "for _ in range(M):\n",
    "    A,B = map(int,input().split())\n",
    "    a[A-1].append(B-1)\n",
    "    a[B-1].append(A-1)\n",
    "\n",
    "from collections import deque\n",
    "\n",
    "d=deque()\n",
    "d.append(0)\n",
    "ans = [0]*N\n",
    "while len(d)!=0:\n",
    "    now = d.popleft()\n",
    "    for to in a[now]:\n",
    "        if ans[to]==0:\n",
    "            ans[to]=ans[now]+1\n",
    "            d.append(to)\n",
    "print(\"Yes\")\n",
    "for i in range(N-1):\n",
    "    print(ans[i+1])"
   ]
  },
  {
   "cell_type": "code",
   "execution_count": 27,
   "metadata": {},
   "outputs": [
    {
     "data": {
      "text/plain": [
       "[2, 1, 2, 2]"
      ]
     },
     "execution_count": 27,
     "metadata": {},
     "output_type": "execute_result"
    }
   ],
   "source": [
    "ans"
   ]
  },
  {
   "cell_type": "code",
   "execution_count": null,
   "metadata": {},
   "outputs": [],
   "source": [
    "# 167 A"
   ]
  },
  {
   "cell_type": "code",
   "execution_count": 5,
   "metadata": {},
   "outputs": [
    {
     "name": "stdout",
     "output_type": "stream",
     "text": [
      "abcd\n",
      "abcde\n",
      "Yes\n"
     ]
    }
   ],
   "source": [
    "s=str(input())\n",
    "t=str(input())\n",
    "if s==t[:len(t)-1]:\n",
    "    print(\"Yes\")\n",
    "else:\n",
    "    print(\"No\")"
   ]
  },
  {
   "cell_type": "code",
   "execution_count": null,
   "metadata": {},
   "outputs": [],
   "source": [
    "#167 B"
   ]
  },
  {
   "cell_type": "code",
   "execution_count": 17,
   "metadata": {},
   "outputs": [
    {
     "name": "stdout",
     "output_type": "stream",
     "text": [
      "10 10 10 1\n",
      "10\n"
     ]
    }
   ],
   "source": [
    "a,b,c,k=map(int,input().split())\n",
    "if a+b>=k:\n",
    "    if a>=k:\n",
    "        print(k)\n",
    "    else:\n",
    "        print(a)\n",
    "else:\n",
    "    print(a-(k-(a+b)))"
   ]
  },
  {
   "cell_type": "code",
   "execution_count": null,
   "metadata": {},
   "outputs": [],
   "source": [
    "#167 C"
   ]
  },
  {
   "cell_type": "code",
   "execution_count": 2,
   "metadata": {},
   "outputs": [
    {
     "name": "stdout",
     "output_type": "stream",
     "text": [
      "6 727202214173249351\n",
      "6 5 2 5 3 2\n"
     ]
    },
    {
     "ename": "ZeroDivisionError",
     "evalue": "integer division or modulo by zero",
     "output_type": "error",
     "traceback": [
      "\u001b[1;31m---------------------------------------------------------------------------\u001b[0m",
      "\u001b[1;31mZeroDivisionError\u001b[0m                         Traceback (most recent call last)",
      "\u001b[1;32m<ipython-input-2-2bb736a056cf>\u001b[0m in \u001b[0;36m<module>\u001b[1;34m\u001b[0m\n\u001b[0;32m      9\u001b[0m         \u001b[0mloop\u001b[0m\u001b[1;33m=\u001b[0m\u001b[0mi\u001b[0m\u001b[1;33m+\u001b[0m\u001b[1;36m1\u001b[0m\u001b[1;33m\u001b[0m\u001b[1;33m\u001b[0m\u001b[0m\n\u001b[0;32m     10\u001b[0m         \u001b[1;32mbreak\u001b[0m\u001b[1;33m\u001b[0m\u001b[1;33m\u001b[0m\u001b[0m\n\u001b[1;32m---> 11\u001b[1;33m \u001b[1;32mfor\u001b[0m \u001b[0m_\u001b[0m \u001b[1;32min\u001b[0m \u001b[0mrange\u001b[0m\u001b[1;33m(\u001b[0m\u001b[0mk\u001b[0m\u001b[1;33m%\u001b[0m\u001b[0mloop\u001b[0m\u001b[1;33m)\u001b[0m\u001b[1;33m:\u001b[0m\u001b[1;33m\u001b[0m\u001b[1;33m\u001b[0m\u001b[0m\n\u001b[0m\u001b[0;32m     12\u001b[0m     \u001b[0mans\u001b[0m\u001b[1;33m=\u001b[0m\u001b[0ma\u001b[0m\u001b[1;33m[\u001b[0m\u001b[0mans\u001b[0m\u001b[1;33m-\u001b[0m\u001b[1;36m1\u001b[0m\u001b[1;33m]\u001b[0m\u001b[1;33m\u001b[0m\u001b[1;33m\u001b[0m\u001b[0m\n\u001b[0;32m     13\u001b[0m \u001b[0mprint\u001b[0m\u001b[1;33m(\u001b[0m\u001b[0mans\u001b[0m\u001b[1;33m)\u001b[0m\u001b[1;33m\u001b[0m\u001b[1;33m\u001b[0m\u001b[0m\n",
      "\u001b[1;31mZeroDivisionError\u001b[0m: integer division or modulo by zero"
     ]
    }
   ],
   "source": [
    "n,k=map(int,input().split())\n",
    "a=list(map(int,input().split()))\n",
    "ans=1\n",
    "loop=0\n",
    "b=0\n",
    "for i in range(1000):\n",
    "    ans=a[ans-1]\n",
    "    if ans==1:\n",
    "        loop=i+1\n",
    "        break\n",
    "if k%loop==0:\n",
    "    print()\n",
    "for _ in range(k%loop):\n",
    "    ans=a[ans-1]\n",
    "print(ans)"
   ]
  },
  {
   "cell_type": "code",
   "execution_count": null,
   "metadata": {},
   "outputs": [],
   "source": [
    "#166 A"
   ]
  },
  {
   "cell_type": "code",
   "execution_count": 2,
   "metadata": {},
   "outputs": [
    {
     "name": "stdout",
     "output_type": "stream",
     "text": [
      "ARC\n",
      "ABC\n"
     ]
    }
   ],
   "source": [
    "a=str(input())\n",
    "if a==\"ABC\":\n",
    "    print(\"ARC\")\n",
    "else:\n",
    "    print(\"ABC\")"
   ]
  },
  {
   "cell_type": "code",
   "execution_count": null,
   "metadata": {},
   "outputs": [],
   "source": [
    "#165 A"
   ]
  },
  {
   "cell_type": "code",
   "execution_count": 2,
   "metadata": {},
   "outputs": [
    {
     "name": "stdout",
     "output_type": "stream",
     "text": [
      "7\n",
      "500 600\n",
      "Yes\n"
     ]
    }
   ],
   "source": [
    "a=int(input())\n",
    "b=list(map(int,input().split()))\n",
    "ans=\"NG\"\n",
    "for i in range(b[0],b[1]+1):\n",
    "    if i%a==0:\n",
    "        ans=\"OK\"\n",
    "print(ans)"
   ]
  },
  {
   "cell_type": "code",
   "execution_count": null,
   "metadata": {},
   "outputs": [],
   "source": [
    "#161 A"
   ]
  },
  {
   "cell_type": "code",
   "execution_count": 1,
   "metadata": {},
   "outputs": [
    {
     "name": "stdout",
     "output_type": "stream",
     "text": [
      "10 20 30\n",
      "30 10 20\n"
     ]
    }
   ],
   "source": [
    "a=list(map(int,input().split()))\n",
    "print(a[2],a[0],a[1])"
   ]
  },
  {
   "cell_type": "code",
   "execution_count": 1,
   "metadata": {},
   "outputs": [],
   "source": [
    "#160 A"
   ]
  },
  {
   "cell_type": "code",
   "execution_count": 2,
   "metadata": {},
   "outputs": [
    {
     "name": "stdout",
     "output_type": "stream",
     "text": [
      "sippuu\n",
      "Yes\n"
     ]
    }
   ],
   "source": [
    "a=str(input())\n",
    "if a[2]==a[3] and a[4]==a[5]:\n",
    "    print(\"Yes\")\n",
    "else:\n",
    "    print(\"No\")"
   ]
  },
  {
   "cell_type": "code",
   "execution_count": null,
   "metadata": {},
   "outputs": [],
   "source": [
    "#100 A"
   ]
  },
  {
   "cell_type": "code",
   "execution_count": 2,
   "metadata": {},
   "outputs": [
    {
     "name": "stdout",
     "output_type": "stream",
     "text": [
      "7 7\n",
      "Yay!\n"
     ]
    }
   ],
   "source": [
    "A,B=tuple(map(int,input().split()))\n",
    "if A<=8 and B<=8:\n",
    "    ans=\"Yay!\"\n",
    "else:\n",
    "    ans=\":(\"\n",
    "print(ans)"
   ]
  },
  {
   "cell_type": "code",
   "execution_count": 24,
   "metadata": {},
   "outputs": [],
   "source": [
    "#99 A"
   ]
  },
  {
   "cell_type": "code",
   "execution_count": 28,
   "metadata": {},
   "outputs": [
    {
     "name": "stdout",
     "output_type": "stream",
     "text": [
      "1900\n",
      "ABD\n"
     ]
    }
   ],
   "source": [
    "N=int(input())\n",
    "if N<=999:\n",
    "    print(\"ABC\")\n",
    "else:\n",
    "    print(\"ABD\")"
   ]
  },
  {
   "cell_type": "code",
   "execution_count": null,
   "metadata": {},
   "outputs": [],
   "source": [
    "#98 A"
   ]
  },
  {
   "cell_type": "code",
   "execution_count": 11,
   "metadata": {},
   "outputs": [
    {
     "name": "stdout",
     "output_type": "stream",
     "text": [
      "3 1\n",
      "4\n"
     ]
    }
   ],
   "source": [
    "A,B=map(int,input().split());print(max([A+B,A-B,A*B]))"
   ]
  },
  {
   "cell_type": "code",
   "execution_count": null,
   "metadata": {},
   "outputs": [],
   "source": [
    "#97 A"
   ]
  },
  {
   "cell_type": "code",
   "execution_count": 5,
   "metadata": {},
   "outputs": [
    {
     "name": "stdout",
     "output_type": "stream",
     "text": [
      "100 10 1 2\n",
      "No\n"
     ]
    }
   ],
   "source": [
    "a,b,c,d=map(int,input().split())\n",
    "if abs(c-a)<=d:\n",
    "    print(\"Yes\")\n",
    "elif abs(b-a)<=d and abs(c-b)<=d:\n",
    "    print(\"Yes\")\n",
    "else:\n",
    "    print(\"No\")"
   ]
  },
  {
   "cell_type": "code",
   "execution_count": null,
   "metadata": {},
   "outputs": [],
   "source": [
    "#96 A"
   ]
  },
  {
   "cell_type": "code",
   "execution_count": null,
   "metadata": {},
   "outputs": [],
   "source": [
    "a,b=map(int,input().split())\n",
    "if b>=a:\n",
    "    print(a)\n",
    "else:\n",
    "    print(a-1)"
   ]
  },
  {
   "cell_type": "code",
   "execution_count": null,
   "metadata": {},
   "outputs": [],
   "source": [
    "#95 A"
   ]
  },
  {
   "cell_type": "code",
   "execution_count": 3,
   "metadata": {},
   "outputs": [
    {
     "name": "stdout",
     "output_type": "stream",
     "text": [
      "ooo\n",
      "1000\n"
     ]
    }
   ],
   "source": [
    "S=input()\n",
    "ans=700\n",
    "for i in range(3):\n",
    "    if S[i]==\"o\":\n",
    "        ans+=100\n",
    "print(ans)"
   ]
  },
  {
   "cell_type": "code",
   "execution_count": null,
   "metadata": {},
   "outputs": [],
   "source": [
    "#94 A"
   ]
  },
  {
   "cell_type": "code",
   "execution_count": 6,
   "metadata": {},
   "outputs": [
    {
     "name": "stdout",
     "output_type": "stream",
     "text": [
      "3 5 4\n",
      "YES\n"
     ]
    }
   ],
   "source": [
    "a,b,c=map(int,input().split())\n",
    "if a<=c and a+b>=c:\n",
    "    print(\"YES\")\n",
    "else:\n",
    "    print(\"NO\")"
   ]
  },
  {
   "cell_type": "code",
   "execution_count": null,
   "metadata": {},
   "outputs": [],
   "source": [
    "#93 A"
   ]
  },
  {
   "cell_type": "code",
   "execution_count": 5,
   "metadata": {
    "scrolled": true
   },
   "outputs": [
    {
     "name": "stdout",
     "output_type": "stream",
     "text": [
      "bcb\n",
      "No\n"
     ]
    }
   ],
   "source": [
    "a=input()\n",
    "if a[1]!=a[2] and a[2]!=a[0] and a[0]!=a[1]:\n",
    "    print(\"Yes\")\n",
    "else:\n",
    "    print(\"No\")"
   ]
  },
  {
   "cell_type": "code",
   "execution_count": null,
   "metadata": {},
   "outputs": [],
   "source": [
    "#92 A"
   ]
  },
  {
   "cell_type": "code",
   "execution_count": 67,
   "metadata": {},
   "outputs": [
    {
     "name": "stdout",
     "output_type": "stream",
     "text": [
      "600\n",
      "300\n",
      "220\n",
      "420\n",
      "520\n"
     ]
    }
   ],
   "source": [
    "a=[]\n",
    "for i in range(4):\n",
    "    a.append(int(input()))\n",
    "print(min(a[0],a[1])+min(a[2],a[3]))"
   ]
  },
  {
   "cell_type": "code",
   "execution_count": 1,
   "metadata": {},
   "outputs": [],
   "source": [
    "#91 A"
   ]
  },
  {
   "cell_type": "code",
   "execution_count": 3,
   "metadata": {},
   "outputs": [
    {
     "name": "stdout",
     "output_type": "stream",
     "text": [
      "120 500 300\n",
      "Yes\n"
     ]
    },
    {
     "data": {
      "text/plain": [
       "[None]"
      ]
     },
     "execution_count": 3,
     "metadata": {},
     "output_type": "execute_result"
    }
   ],
   "source": [
    "a,b,c=tuple(map(int,input().split()))\n",
    "[print(\"Yes\") if a+b>=c else print(\"No\")]"
   ]
  },
  {
   "cell_type": "code",
   "execution_count": null,
   "metadata": {},
   "outputs": [],
   "source": [
    "#90 A"
   ]
  },
  {
   "cell_type": "code",
   "execution_count": 2,
   "metadata": {},
   "outputs": [
    {
     "name": "stdout",
     "output_type": "stream",
     "text": [
      "baf\n",
      "fkd\n",
      "fie\n",
      "bke\n"
     ]
    }
   ],
   "source": [
    "a=input()\n",
    "b=input()\n",
    "c=input()\n",
    "print(a[0]+b[1]+c[2])"
   ]
  },
  {
   "cell_type": "code",
   "execution_count": null,
   "metadata": {},
   "outputs": [],
   "source": [
    "#89 A"
   ]
  },
  {
   "cell_type": "code",
   "execution_count": 3,
   "metadata": {
    "scrolled": true
   },
   "outputs": [
    {
     "name": "stdout",
     "output_type": "stream",
     "text": [
      "8\n",
      "2\n"
     ]
    }
   ],
   "source": [
    "a=int(input())\n",
    "print(a//3)"
   ]
  },
  {
   "cell_type": "code",
   "execution_count": null,
   "metadata": {},
   "outputs": [],
   "source": [
    "#166 B"
   ]
  },
  {
   "cell_type": "code",
   "execution_count": null,
   "metadata": {},
   "outputs": [],
   "source": [
    "a=list(map(int,input().split()))\n",
    "b,c=[],[]\n",
    "ans=set()\n",
    "for _ in range(a[1]):\n",
    "    b.append(int(input()))\n",
    "    c.append(list(map(int,input().split())))\n",
    "for i in range(a[1]):\n",
    "    for j in range(b[i]):\n",
    "        ans.add(c[i][j])\n",
    "print(a[0]-len(ans))"
   ]
  },
  {
   "cell_type": "code",
   "execution_count": null,
   "metadata": {},
   "outputs": [],
   "source": [
    "#165 B"
   ]
  },
  {
   "cell_type": "code",
   "execution_count": 7,
   "metadata": {},
   "outputs": [
    {
     "name": "stdout",
     "output_type": "stream",
     "text": [
      "1000000000000000000\n",
      "3760\n"
     ]
    }
   ],
   "source": [
    "a=int(input())\n",
    "b=100\n",
    "ans=0\n",
    "while b<a:\n",
    "    b+=int(b*0.01)\n",
    "    ans+=1\n",
    "print(ans)"
   ]
  },
  {
   "cell_type": "code",
   "execution_count": null,
   "metadata": {},
   "outputs": [],
   "source": [
    "#163 B"
   ]
  },
  {
   "cell_type": "code",
   "execution_count": 3,
   "metadata": {},
   "outputs": [
    {
     "name": "stdout",
     "output_type": "stream",
     "text": [
      "41 1\n",
      "5\n",
      "36\n"
     ]
    }
   ],
   "source": [
    "a=list(map(int,input().split()))\n",
    "b=list(map(int,input().split()))\n",
    "if a[0]-sum(b)>=0:\n",
    "    print(a[0]-sum(b))\n",
    "else:\n",
    "    print(-1)"
   ]
  },
  {
   "cell_type": "code",
   "execution_count": null,
   "metadata": {},
   "outputs": [],
   "source": [
    "#162 B"
   ]
  },
  {
   "cell_type": "code",
   "execution_count": 3,
   "metadata": {},
   "outputs": [
    {
     "name": "stdout",
     "output_type": "stream",
     "text": [
      "1000000\n",
      "266666333332\n"
     ]
    }
   ],
   "source": [
    "a=int(input())\n",
    "b=[]\n",
    "for i in range(a+1):\n",
    "    if i%3==0 or i%5==0:\n",
    "        continue\n",
    "    else:\n",
    "        b.append(i)\n",
    "print(sum(b))"
   ]
  },
  {
   "cell_type": "code",
   "execution_count": null,
   "metadata": {},
   "outputs": [],
   "source": [
    "#161 B"
   ]
  },
  {
   "cell_type": "code",
   "execution_count": 11,
   "metadata": {},
   "outputs": [
    {
     "name": "stdout",
     "output_type": "stream",
     "text": [
      "12 3\n",
      "4 56 78 901 2 345 67 890 123 45 6 789\n",
      "Yes\n"
     ]
    }
   ],
   "source": [
    "a=list(map(int,input().split()))\n",
    "b=list(map(int,input().split()))\n",
    "c=0\n",
    "for i in range(a[0]):\n",
    "    if b[i]>=sum(b)*(1/(4*a[1])):\n",
    "        c+=1\n",
    "if c>=a[1]:\n",
    "    print(\"Yes\")\n",
    "else:\n",
    "    print(\"No\")"
   ]
  },
  {
   "cell_type": "code",
   "execution_count": null,
   "metadata": {},
   "outputs": [],
   "source": [
    "#164 B"
   ]
  },
  {
   "cell_type": "code",
   "execution_count": null,
   "metadata": {},
   "outputs": [],
   "source": [
    "a=list(map(int,input().split()))\n",
    "for i in range(1,101):\n",
    "    if a[2]-i*a[1]<=0:\n",
    "        print(\"Yes\")\n",
    "        break\n",
    "    elif a[0]-i*a[3]<=0:\n",
    "        print(\"No\")\n",
    "        break"
   ]
  },
  {
   "cell_type": "code",
   "execution_count": null,
   "metadata": {},
   "outputs": [],
   "source": [
    "#160 B"
   ]
  },
  {
   "cell_type": "code",
   "execution_count": 5,
   "metadata": {},
   "outputs": [
    {
     "name": "stdout",
     "output_type": "stream",
     "text": [
      "1000000000\n",
      "2000000000\n"
     ]
    }
   ],
   "source": [
    "a=int(input())\n",
    "b=a//500\n",
    "c=a%500\n",
    "d=c//5\n",
    "print(b*1000+5*d)"
   ]
  },
  {
   "cell_type": "code",
   "execution_count": null,
   "metadata": {},
   "outputs": [],
   "source": [
    "#158 B"
   ]
  },
  {
   "cell_type": "code",
   "execution_count": 5,
   "metadata": {},
   "outputs": [
    {
     "name": "stdout",
     "output_type": "stream",
     "text": [
      "6 2 4\n",
      "2\n"
     ]
    }
   ],
   "source": [
    "a=list(map(int,input().split()))\n",
    "if a[0]%(a[1]+a[2])<=a[1]:\n",
    "    print((a[0]//(a[1]+a[2]))*a[1]+a[0]%(a[1]+a[2]))\n",
    "else:\n",
    "    print((a[0]//(a[1]+a[2]))*a[1]+a[1])"
   ]
  },
  {
   "cell_type": "code",
   "execution_count": null,
   "metadata": {},
   "outputs": [],
   "source": [
    "#157 B"
   ]
  },
  {
   "cell_type": "code",
   "execution_count": 3,
   "metadata": {},
   "outputs": [
    {
     "name": "stdout",
     "output_type": "stream",
     "text": [
      "41 7 46\n",
      "26 89 2\n",
      "78 92 8\n",
      "5\n",
      "6\n",
      "45\n",
      "16\n",
      "57\n",
      "17\n"
     ]
    },
    {
     "ename": "NameError",
     "evalue": "name 'N' is not defined",
     "output_type": "error",
     "traceback": [
      "\u001b[1;31m---------------------------------------------------------------------------\u001b[0m",
      "\u001b[1;31mNameError\u001b[0m                                 Traceback (most recent call last)",
      "\u001b[1;32m<ipython-input-3-213ce365cdeb>\u001b[0m in \u001b[0;36m<module>\u001b[1;34m\u001b[0m\n\u001b[0;32m      5\u001b[0m \u001b[1;32mfor\u001b[0m \u001b[0m_\u001b[0m \u001b[1;32min\u001b[0m \u001b[0mrange\u001b[0m\u001b[1;33m(\u001b[0m\u001b[0mint\u001b[0m\u001b[1;33m(\u001b[0m\u001b[0minput\u001b[0m\u001b[1;33m(\u001b[0m\u001b[1;33m)\u001b[0m\u001b[1;33m)\u001b[0m\u001b[1;33m)\u001b[0m\u001b[1;33m:\u001b[0m\u001b[1;33m\u001b[0m\u001b[1;33m\u001b[0m\u001b[0m\n\u001b[0;32m      6\u001b[0m     \u001b[0mb\u001b[0m\u001b[1;33m.\u001b[0m\u001b[0mappend\u001b[0m\u001b[1;33m(\u001b[0m\u001b[0mint\u001b[0m\u001b[1;33m(\u001b[0m\u001b[0minput\u001b[0m\u001b[1;33m(\u001b[0m\u001b[1;33m)\u001b[0m\u001b[1;33m)\u001b[0m\u001b[1;33m)\u001b[0m\u001b[1;33m\u001b[0m\u001b[1;33m\u001b[0m\u001b[0m\n\u001b[1;32m----> 7\u001b[1;33m \u001b[1;32mfor\u001b[0m \u001b[0mi\u001b[0m \u001b[1;32min\u001b[0m \u001b[0mrange\u001b[0m\u001b[1;33m(\u001b[0m\u001b[0mN\u001b[0m\u001b[1;33m)\u001b[0m\u001b[1;33m:\u001b[0m\u001b[1;33m\u001b[0m\u001b[1;33m\u001b[0m\u001b[0m\n\u001b[0m\u001b[0;32m      8\u001b[0m     \u001b[1;32mfor\u001b[0m \u001b[0mj\u001b[0m \u001b[1;32min\u001b[0m \u001b[0mrange\u001b[0m\u001b[1;33m(\u001b[0m\u001b[1;36m3\u001b[0m\u001b[1;33m)\u001b[0m\u001b[1;33m:\u001b[0m\u001b[1;33m\u001b[0m\u001b[1;33m\u001b[0m\u001b[0m\n\u001b[0;32m      9\u001b[0m         \u001b[1;32mfor\u001b[0m \u001b[0mk\u001b[0m \u001b[1;32min\u001b[0m \u001b[0mrange\u001b[0m\u001b[1;33m(\u001b[0m\u001b[1;36m3\u001b[0m\u001b[1;33m)\u001b[0m\u001b[1;33m:\u001b[0m\u001b[1;33m\u001b[0m\u001b[1;33m\u001b[0m\u001b[0m\n",
      "\u001b[1;31mNameError\u001b[0m: name 'N' is not defined"
     ]
    }
   ],
   "source": [
    "a=[]\n",
    "b=[]\n",
    "for _ in range(3):\n",
    "    a.append(list(map(int,input().split())))\n",
    "N=int(input())\n",
    "for _ in range(N):\n",
    "    b.append(int(input()))\n",
    "for i in range(N):\n",
    "    for j in range(3):\n",
    "        for k in range(3):\n",
    "            if b[i]==a[k][j]:\n",
    "                a[k][j]=0\n",
    "if (a[0][0]==0 and a[0][1]==0 and a[0][2]==0)or(a[1][0]==0 and a[1][1]==0 and a[1][2]==0) or (a[2][0]==0 and a[2][1]==0 and a[2][2]==0) or (a[0][0]==0 and a[1][0]==0 and a[2][0]==0) or (a[0][1]==0 and a[1][1]==0 and a[2][1]==0) or (a[0][2]==0 and a[1][2]==0 and a[2][2]==0) or (a[0][0]==0 and a[1][1]==0 and a[2][2]==0) or (a[0][2]==0 and a[1][1]==0 and a[2][0]==0):\n",
    "    print(\"Yes\")\n",
    "else:\n",
    "    print(\"No\")"
   ]
  },
  {
   "cell_type": "code",
   "execution_count": 4,
   "metadata": {},
   "outputs": [],
   "source": [
    "#126 B"
   ]
  },
  {
   "cell_type": "code",
   "execution_count": null,
   "metadata": {},
   "outputs": [],
   "source": [
    "S=input()\n",
    "A=int(S[0:2])\n",
    "B=int(S[2:4])\n",
    "if 1<=A<=12:\n",
    "    if 1<=B<=12:\n",
    "        ans=\"AMBIGUOUS\"\n",
    "    else:\n",
    "        ans=\"MMYY\"\n",
    "else:\n",
    "    if 1<=B<=12:\n",
    "        ans=\"YYMM\"\n",
    "    else:\n",
    "        ans=\"NA\"\n",
    "print(ans)"
   ]
  },
  {
   "cell_type": "code",
   "execution_count": null,
   "metadata": {},
   "outputs": [],
   "source": [
    "#125 B"
   ]
  },
  {
   "cell_type": "code",
   "execution_count": 9,
   "metadata": {},
   "outputs": [
    {
     "name": "stdout",
     "output_type": "stream",
     "text": [
      "3\n",
      "10 8 10\n",
      "10 10 3\n",
      "7\n"
     ]
    }
   ],
   "source": [
    "N=int(input())\n",
    "A=list(map(int,input().split()))\n",
    "B=list(map(int,input().split()))\n",
    "ans=0\n",
    "for i in range(N):\n",
    "    if A[i]-B[i]>=0:\n",
    "        ans +=A[i]-B[i]\n",
    "print(ans)"
   ]
  },
  {
   "cell_type": "code",
   "execution_count": 1,
   "metadata": {},
   "outputs": [],
   "source": [
    "#124 B"
   ]
  },
  {
   "cell_type": "code",
   "execution_count": 32,
   "metadata": {},
   "outputs": [
    {
     "name": "stdout",
     "output_type": "stream",
     "text": [
      "5\n",
      "9 9 9 9 9\n",
      "5\n"
     ]
    }
   ],
   "source": [
    "N=input()\n",
    "A=list(map(int,input().split()))\n",
    "ans=0\n",
    "for i in range(int(N)):\n",
    "    B=0\n",
    "    for j in range(i):\n",
    "        if A[i]-A[j]>=0:\n",
    "            B+=1\n",
    "    if B==i:\n",
    "        ans+=1\n",
    "print(ans)    "
   ]
  },
  {
   "cell_type": "code",
   "execution_count": null,
   "metadata": {},
   "outputs": [],
   "source": [
    "#123 B"
   ]
  },
  {
   "cell_type": "code",
   "execution_count": 2,
   "metadata": {},
   "outputs": [
    {
     "name": "stdout",
     "output_type": "stream",
     "text": [
      "10\n",
      "20\n",
      "30\n",
      "40\n",
      "50\n",
      "150\n"
     ]
    }
   ],
   "source": [
    "A=[int(input()) for i in range(5)]\n",
    "ans=0\n",
    "for i in range(5):\n",
    "    if A[i]%10==0:\n",
    "        ans+=A[i]\n",
    "        A[i]=0\n",
    "B=[str(i) for i in A]\n",
    "C=[B[i][-1] for i in range(5)]\n",
    "C=[int(C[i]) for i in range(5)]\n",
    "D=[None]*5\n",
    "for i in range(5):\n",
    "    D[i]=int(B[i])-int(C[i])\n",
    "E=list([n for n in(sorted(C,reverse=True)) if n>0])\n",
    "for i in range(len(E)-1):\n",
    "    ans+=10\n",
    "try:\n",
    "    ans=ans+E[-1]+int(sum(D))\n",
    "except(IndexError):\n",
    "    ans=ans+int(sum(D))\n",
    "print(ans)"
   ]
  },
  {
   "cell_type": "code",
   "execution_count": null,
   "metadata": {},
   "outputs": [],
   "source": [
    "#122 B"
   ]
  },
  {
   "cell_type": "code",
   "execution_count": 2,
   "metadata": {},
   "outputs": [
    {
     "name": "stdout",
     "output_type": "stream",
     "text": [
      "ATCODER\n",
      "3\n"
     ]
    }
   ],
   "source": [
    "S=input()\n",
    "start=1\n",
    "end=0\n",
    "ans=[]\n",
    "for _ in range(len(S)):\n",
    "    for i in range(len(S))[end:]:\n",
    "        if S[i] in {\"A\",\"C\",\"G\",\"T\"}:\n",
    "            start=i\n",
    "            break\n",
    "    for j in range(len(S))[start:len(S)]:\n",
    "        end=len(S)\n",
    "        if S[j] not in {\"A\",\"C\",\"G\",\"T\"}:\n",
    "            end=j\n",
    "            break\n",
    "    ans.append(end-start)\n",
    "if max(ans)<0:print(0)\n",
    "else:print(max(ans))"
   ]
  },
  {
   "cell_type": "code",
   "execution_count": null,
   "metadata": {},
   "outputs": [],
   "source": [
    "#121 B"
   ]
  },
  {
   "cell_type": "code",
   "execution_count": null,
   "metadata": {},
   "outputs": [],
   "source": [
    "a=tuple(map(int,input().split()))\n",
    "b=[]\n",
    "for i in range(a[0]+1):\n",
    "    b.append(list(map(int,input().split())))\n",
    "ans=0\n",
    "s=0\n",
    "for j in range(a[0]+1)[1:a[0]+1]:\n",
    "    for k in range(a[1]):\n",
    "        s+=b[j][k]*b[0][k]\n",
    "    s+=a[2]\n",
    "    if s>0:\n",
    "        ans+=1\n",
    "    s=0\n",
    "print(ans)"
   ]
  },
  {
   "cell_type": "code",
   "execution_count": null,
   "metadata": {},
   "outputs": [],
   "source": [
    "#120 B"
   ]
  },
  {
   "cell_type": "code",
   "execution_count": 22,
   "metadata": {},
   "outputs": [
    {
     "name": "stdout",
     "output_type": "stream",
     "text": [
      "1 1 1\n",
      "1\n"
     ]
    }
   ],
   "source": [
    "a,b,c=tuple(map(int,input().split()))\n",
    "ans=[]\n",
    "for i in range(min(a,b)+1)[1:min(a,b)+1]:\n",
    "    if a%i==0 and b%i==0:\n",
    "        ans.append(i)\n",
    "print(sorted(ans,reverse=True)[c-1])"
   ]
  },
  {
   "cell_type": "code",
   "execution_count": null,
   "metadata": {},
   "outputs": [],
   "source": [
    "#119 B"
   ]
  },
  {
   "cell_type": "code",
   "execution_count": 7,
   "metadata": {},
   "outputs": [
    {
     "name": "stdout",
     "output_type": "stream",
     "text": [
      "3\n",
      "100000000 JPY\n",
      "100.00000000 BTC\n",
      "0.00000001 BTC\n",
      "138000000.0038\n"
     ]
    }
   ],
   "source": [
    "a=int(input())\n",
    "b=[]\n",
    "ans=0\n",
    "for _ in range(a):\n",
    "    b.append(tuple(map(str,input().split())))\n",
    "for i in range(a):\n",
    "    if b[i][1]==\"JPY\":\n",
    "        ans+=int(b[i][0])\n",
    "    else:\n",
    "        ans+=float(b[i][0])*380000\n",
    "print(ans)"
   ]
  },
  {
   "cell_type": "code",
   "execution_count": null,
   "metadata": {},
   "outputs": [],
   "source": [
    "#118 B ×"
   ]
  },
  {
   "cell_type": "code",
   "execution_count": 50,
   "metadata": {},
   "outputs": [
    {
     "name": "stdout",
     "output_type": "stream",
     "text": [
      "3 4\n",
      "2 1 3\n",
      "3 1 2 3\n",
      "2 3 2\n",
      "1\n"
     ]
    }
   ],
   "source": [
    "a,b=map(int,input().split())\n",
    "c=[]\n",
    "for w in range(a):\n",
    "    c.append(list(map(int,input().split())))\n",
    "mini=30\n",
    "d=0\n",
    "for i in range(a):\n",
    "    if c[i][0]<mini:\n",
    "        mini=c[i][0]\n",
    "        d=i\n",
    "for j in range(mini+1)[1:mini+1]:\n",
    "    for k in range(a):\n",
    "        for m in range(c[k][0])[1:c[k][0]]:\n",
    "            ans=list(c[d])\n",
    "            if c[d][j]==c[k][m]:\n",
    "                ans.append(int(c[d][j]))\n",
    "if a==1:\n",
    "    print(len(c[0])-1)\n",
    "else:\n",
    "    print(len(set(ans))-c[d][0])"
   ]
  },
  {
   "cell_type": "code",
   "execution_count": 19,
   "metadata": {},
   "outputs": [
    {
     "name": "stdout",
     "output_type": "stream",
     "text": [
      "3 4 \n",
      "3 1 2 3\n",
      "3 1 2 3\n",
      "2 1 2\n"
     ]
    },
    {
     "ename": "TypeError",
     "evalue": "unhashable type: 'list'",
     "output_type": "error",
     "traceback": [
      "\u001b[1;31m---------------------------------------------------------------------------\u001b[0m",
      "\u001b[1;31mTypeError\u001b[0m                                 Traceback (most recent call last)",
      "\u001b[1;32m<ipython-input-19-d1e8ece0d013>\u001b[0m in \u001b[0;36m<module>\u001b[1;34m\u001b[0m\n\u001b[0;32m     12\u001b[0m \u001b[1;32mfor\u001b[0m \u001b[0mj\u001b[0m \u001b[1;32min\u001b[0m \u001b[0mrange\u001b[0m\u001b[1;33m(\u001b[0m\u001b[0ma\u001b[0m\u001b[1;33m)\u001b[0m\u001b[1;33m:\u001b[0m\u001b[1;33m\u001b[0m\u001b[1;33m\u001b[0m\u001b[0m\n\u001b[0;32m     13\u001b[0m     \u001b[0mans\u001b[0m\u001b[1;33m.\u001b[0m\u001b[0mappend\u001b[0m\u001b[1;33m(\u001b[0m\u001b[0mlist\u001b[0m\u001b[1;33m(\u001b[0m\u001b[0mset\u001b[0m\u001b[1;33m(\u001b[0m\u001b[0mc\u001b[0m\u001b[1;33m[\u001b[0m\u001b[0md\u001b[0m\u001b[1;33m]\u001b[0m\u001b[1;33m)\u001b[0m\u001b[1;33m&\u001b[0m\u001b[0mset\u001b[0m\u001b[1;33m(\u001b[0m\u001b[0mc\u001b[0m\u001b[1;33m[\u001b[0m\u001b[0mj\u001b[0m\u001b[1;33m]\u001b[0m\u001b[1;33m)\u001b[0m\u001b[1;33m)\u001b[0m\u001b[1;33m)\u001b[0m\u001b[1;33m\u001b[0m\u001b[1;33m\u001b[0m\u001b[0m\n\u001b[1;32m---> 14\u001b[1;33m \u001b[0mprint\u001b[0m\u001b[1;33m(\u001b[0m\u001b[0mlen\u001b[0m\u001b[1;33m(\u001b[0m\u001b[0mset\u001b[0m\u001b[1;33m(\u001b[0m\u001b[0mans\u001b[0m\u001b[1;33m)\u001b[0m\u001b[1;33m)\u001b[0m\u001b[1;33m)\u001b[0m\u001b[1;33m\u001b[0m\u001b[1;33m\u001b[0m\u001b[0m\n\u001b[0m",
      "\u001b[1;31mTypeError\u001b[0m: unhashable type: 'list'"
     ]
    }
   ],
   "source": [
    "a,b=map(int,input().split())\n",
    "c=[]\n",
    "ans=[]\n",
    "for w in range(a):\n",
    "    c.append(tuple(map(int,input().split())))\n",
    "mini=30\n",
    "d=0\n",
    "for i in range(a):\n",
    "    if c[i][0]<mini:\n",
    "        mini=c[i][0]\n",
    "        d=i\n",
    "for j in range(a):\n",
    "    for m in range(c[])\n",
    "    ans.append(list(set(c[d])&set(c[j])))\n",
    "print(len(ans))"
   ]
  },
  {
   "cell_type": "code",
   "execution_count": 53,
   "metadata": {},
   "outputs": [
    {
     "name": "stdout",
     "output_type": "stream",
     "text": [
      "3 4\n",
      "2 1 3\n",
      "3 1 2 3\n",
      "2 3 2\n",
      "1\n"
     ]
    }
   ],
   "source": [
    "N, M = map(int, input().split())\n",
    " \n",
    "cnt = [0]*M\n",
    "W = [0]*N\n",
    "for i in range(N):\n",
    "    W[i] = list(map(int, input().split()))\n",
    "    for k in range(1, W[i][0]+1):\n",
    "        cnt[W[i][k]-1] += 1\n",
    "ans = cnt.count(N)\n",
    "print(ans)"
   ]
  },
  {
   "cell_type": "code",
   "execution_count": null,
   "metadata": {},
   "outputs": [],
   "source": [
    "#117 B"
   ]
  },
  {
   "cell_type": "code",
   "execution_count": 3,
   "metadata": {},
   "outputs": [
    {
     "name": "stdout",
     "output_type": "stream",
     "text": [
      "4\n",
      "3 8 5 1\n",
      "Yes\n"
     ]
    }
   ],
   "source": [
    "a=int(input())\n",
    "b=list(map(int,input().split()))\n",
    "if max(b)<sum(b)-max(b):\n",
    "    print(\"Yes\")\n",
    "else:\n",
    "    print(\"No\")"
   ]
  },
  {
   "cell_type": "code",
   "execution_count": 1,
   "metadata": {},
   "outputs": [],
   "source": [
    "#116 B"
   ]
  },
  {
   "cell_type": "code",
   "execution_count": 12,
   "metadata": {},
   "outputs": [
    {
     "name": "stdout",
     "output_type": "stream",
     "text": [
      "54\n",
      "114\n"
     ]
    }
   ],
   "source": [
    "a=int(input())\n",
    "b=set([a])\n",
    "count=1\n",
    "if a%2==0:\n",
    "    a=a/2\n",
    "    count+=1\n",
    "else:\n",
    "    a=3*a+1\n",
    "    count+=1\n",
    "while a not in b:\n",
    "    b.add(a)\n",
    "    if a%2==0:\n",
    "        a=a/2\n",
    "        count+=1\n",
    "    else:\n",
    "        a=3*a+1\n",
    "        count+=1\n",
    "print(count)"
   ]
  },
  {
   "cell_type": "code",
   "execution_count": 1,
   "metadata": {},
   "outputs": [],
   "source": [
    "#115 B"
   ]
  },
  {
   "cell_type": "code",
   "execution_count": 3,
   "metadata": {},
   "outputs": [
    {
     "name": "stdout",
     "output_type": "stream",
     "text": [
      "3\n",
      "4980\n",
      "7980\n",
      "6980\n",
      "15950\n"
     ]
    }
   ],
   "source": [
    "a=int(input())\n",
    "b=[]\n",
    "for i in range(a):\n",
    "    b.append(int(input()))\n",
    "print(int(sum(b)-max(b)/2))"
   ]
  },
  {
   "cell_type": "code",
   "execution_count": 1,
   "metadata": {},
   "outputs": [],
   "source": [
    "#114 B"
   ]
  },
  {
   "cell_type": "code",
   "execution_count": 9,
   "metadata": {},
   "outputs": [
    {
     "name": "stdout",
     "output_type": "stream",
     "text": [
      "00000000\n",
      "753\n"
     ]
    }
   ],
   "source": [
    "a=str(input())\n",
    "ans=1000\n",
    "for i in range(len(a)-2):\n",
    "    ans=min(ans,abs(int(a[i]+a[i+1]+a[i+2])-753))\n",
    "print(ans)"
   ]
  },
  {
   "cell_type": "code",
   "execution_count": 1,
   "metadata": {},
   "outputs": [],
   "source": [
    "#113 B"
   ]
  },
  {
   "cell_type": "code",
   "execution_count": 5,
   "metadata": {},
   "outputs": [
    {
     "name": "stdout",
     "output_type": "stream",
     "text": [
      "3\n",
      "21 -11\n",
      "81234 94124 52141\n",
      "3\n"
     ]
    }
   ],
   "source": [
    "a=int(input())\n",
    "b=list(map(int,input().split()))\n",
    "c=list(map(int,input().split()))\n",
    "d=1000\n",
    "f=0\n",
    "for i in range(a):\n",
    "    if d>=abs(b[0]-c[i]*0.006-b[1]):\n",
    "        d=abs(b[0]-c[i]*0.006-b[1])\n",
    "        f=i\n",
    "print(f+1)"
   ]
  },
  {
   "cell_type": "code",
   "execution_count": 1,
   "metadata": {},
   "outputs": [],
   "source": [
    "#112 B"
   ]
  },
  {
   "cell_type": "code",
   "execution_count": 13,
   "metadata": {},
   "outputs": [
    {
     "name": "stdout",
     "output_type": "stream",
     "text": [
      "5 9\n",
      "25 8\n",
      "5 9\n",
      "2 10\n",
      "1000 1000\n",
      "6 1\n",
      "5\n"
     ]
    }
   ],
   "source": [
    "a=list(map(int,input().split()))\n",
    "b=[]\n",
    "c=10000\n",
    "for i in range(a[0]):\n",
    "    b.append(list(map(int,input().split())))\n",
    "for j in range(a[0]):\n",
    "    if b[j][1]<=a[1] and c>b[j][0]:\n",
    "        c=b[j][0]\n",
    "if c!=10000:\n",
    "    print(c)\n",
    "else:\n",
    "    print(\"TLE\")"
   ]
  },
  {
   "cell_type": "code",
   "execution_count": 1,
   "metadata": {},
   "outputs": [],
   "source": [
    "#111 B"
   ]
  },
  {
   "cell_type": "code",
   "execution_count": 7,
   "metadata": {},
   "outputs": [
    {
     "name": "stdout",
     "output_type": "stream",
     "text": [
      "109\n",
      "111\n"
     ]
    }
   ],
   "source": [
    "a=str(input())\n",
    "if int(a)<=int(a[0]+a[0]+a[0]):\n",
    "    print(a[0]+a[0]+a[0])\n",
    "else:\n",
    "    print(str(int(a[0])+1)+str(int(a[0])+1)+str(int(a[0])+1))"
   ]
  },
  {
   "cell_type": "code",
   "execution_count": 1,
   "metadata": {},
   "outputs": [],
   "source": [
    "#110 B"
   ]
  },
  {
   "cell_type": "code",
   "execution_count": 8,
   "metadata": {},
   "outputs": [
    {
     "name": "stdout",
     "output_type": "stream",
     "text": [
      "1 1 10 20\n",
      "15\n",
      "15\n",
      "\n"
     ]
    }
   ],
   "source": [
    "a=list(map(int,input().split()))\n",
    "b=list(map(int,input().split()))\n",
    "c=list(map(int,input().split()))\n",
    "d=\"\"\n",
    "if max(b)<min(c):\n",
    "    for i in range(min(c)-max(b)):\n",
    "        if a[2]<max(b)+i+1<=a[3]:\n",
    "            d=\"No War\"\n",
    "            break\n",
    "        else:\n",
    "            d=\"War\"\n",
    "else:\n",
    "    d=\"War\"\n",
    "print(d)"
   ]
  },
  {
   "cell_type": "code",
   "execution_count": null,
   "metadata": {},
   "outputs": [],
   "source": [
    "#109 B"
   ]
  },
  {
   "cell_type": "code",
   "execution_count": 31,
   "metadata": {},
   "outputs": [
    {
     "name": "stdout",
     "output_type": "stream",
     "text": [
      "3\n",
      "abc\n",
      "ard\n",
      "der\n",
      "No\n"
     ]
    }
   ],
   "source": [
    "a=int(input())\n",
    "b=[]\n",
    "c=\"\"\n",
    "for i in range(a):\n",
    "    b.append(str(input()))\n",
    "for j in range(a-1):\n",
    "    if b[j][-1]==b[j+1][0]:\n",
    "        if len(set(b))==a:\n",
    "            c=\"Yes\"\n",
    "        else:\n",
    "            c=\"No\"\n",
    "            break\n",
    "    else:\n",
    "        c=\"No\"\n",
    "        break\n",
    "print(c)"
   ]
  },
  {
   "cell_type": "code",
   "execution_count": null,
   "metadata": {},
   "outputs": [],
   "source": [
    "#108 B"
   ]
  },
  {
   "cell_type": "code",
   "execution_count": 13,
   "metadata": {},
   "outputs": [
    {
     "name": "stdout",
     "output_type": "stream",
     "text": [
      "31 -41 -59 26\n",
      "-126 -64 -36 -131 "
     ]
    }
   ],
   "source": [
    "a=list(map(int,input().split()))\n",
    "x=a[2]-a[0]\n",
    "y=a[3]-a[1]\n",
    "print(a[2]-y,a[3]+x,a[2]-y-x,a[3]+x-y,end=\" \")"
   ]
  },
  {
   "cell_type": "code",
   "execution_count": 22,
   "metadata": {},
   "outputs": [],
   "source": [
    "#107 B　×"
   ]
  },
  {
   "cell_type": "code",
   "execution_count": 21,
   "metadata": {},
   "outputs": [
    {
     "name": "stdout",
     "output_type": "stream",
     "text": [
      "4 5\n",
      ".....\n",
      ".....\n",
      "..#..\n",
      ".....\n"
     ]
    },
    {
     "ename": "IndexError",
     "evalue": "list index out of range",
     "output_type": "error",
     "traceback": [
      "\u001b[1;31m---------------------------------------------------------------------------\u001b[0m",
      "\u001b[1;31mIndexError\u001b[0m                                Traceback (most recent call last)",
      "\u001b[1;32m<ipython-input-21-99ad76c21db2>\u001b[0m in \u001b[0;36m<module>\u001b[1;34m\u001b[0m\n\u001b[0;32m     10\u001b[0m \u001b[1;32mfor\u001b[0m \u001b[0mr\u001b[0m \u001b[1;32min\u001b[0m \u001b[0mlist\u001b[0m\u001b[1;33m(\u001b[0m\u001b[0mf\u001b[0m\u001b[1;33m)\u001b[0m\u001b[1;33m[\u001b[0m\u001b[1;33m:\u001b[0m\u001b[1;33m:\u001b[0m\u001b[1;33m-\u001b[0m\u001b[1;36m1\u001b[0m\u001b[1;33m]\u001b[0m\u001b[1;33m:\u001b[0m\u001b[1;33m\u001b[0m\u001b[1;33m\u001b[0m\u001b[0m\n\u001b[0;32m     11\u001b[0m     \u001b[0mf\u001b[0m\u001b[1;33m=\u001b[0m\u001b[0mlist\u001b[0m\u001b[1;33m(\u001b[0m\u001b[0mf\u001b[0m\u001b[1;33m)\u001b[0m\u001b[1;33m\u001b[0m\u001b[1;33m\u001b[0m\u001b[0m\n\u001b[1;32m---> 12\u001b[1;33m     \u001b[0mb\u001b[0m\u001b[1;33m.\u001b[0m\u001b[0mpop\u001b[0m\u001b[1;33m(\u001b[0m\u001b[0mf\u001b[0m\u001b[1;33m[\u001b[0m\u001b[0mr\u001b[0m\u001b[1;33m]\u001b[0m\u001b[1;33m)\u001b[0m\u001b[1;33m\u001b[0m\u001b[1;33m\u001b[0m\u001b[0m\n\u001b[0m\u001b[0;32m     13\u001b[0m \u001b[0mc\u001b[0m\u001b[1;33m=\u001b[0m\u001b[0mlen\u001b[0m\u001b[1;33m(\u001b[0m\u001b[0mf\u001b[0m\u001b[1;33m)\u001b[0m\u001b[1;33m\u001b[0m\u001b[1;33m\u001b[0m\u001b[0m\n\u001b[0;32m     14\u001b[0m \u001b[0mf\u001b[0m\u001b[1;33m.\u001b[0m\u001b[0mclear\u001b[0m\u001b[1;33m(\u001b[0m\u001b[1;33m)\u001b[0m\u001b[1;33m\u001b[0m\u001b[1;33m\u001b[0m\u001b[0m\n",
      "\u001b[1;31mIndexError\u001b[0m: list index out of range"
     ]
    }
   ],
   "source": [
    "a=list(map(int,input().split()))\n",
    "b=[]\n",
    "d=set()\n",
    "f=set()\n",
    "for i in range(a[0]):\n",
    "    b.append(list(input()))\n",
    "for j in range(a[0]):\n",
    "    if set(b[j])=={\".\"}:\n",
    "        f.add(j)\n",
    "for r in list(f)[::-1]:\n",
    "    f=list(f)\n",
    "    b.pop(f[r])\n",
    "c=len(f)\n",
    "f.clear()\n",
    "f=set()\n",
    "for k in range(a[1]):\n",
    "    for h in range(a[0]-c):\n",
    "        d.add(b[h][k])\n",
    "    if d=={\".\"}:\n",
    "            f.add(k)\n",
    "    d=set()\n",
    "for q in range(a[0]-c):\n",
    "    for l in range(len(list(f))):\n",
    "        f=list(f)\n",
    "        b[q].pop(f[l])\n",
    "e=len(f)\n",
    "for o in range(a[0]-c):\n",
    "    for t in range(a[1]-e):\n",
    "        print(b[o][t],end=\"\")\n",
    "    print()"
   ]
  },
  {
   "cell_type": "code",
   "execution_count": 38,
   "metadata": {},
   "outputs": [
    {
     "name": "stdout",
     "output_type": "stream",
     "text": [
      "3 3\n",
      ".##\n",
      "#.#\n",
      "..#\n",
      ".##\n",
      "#.#\n",
      "..#\n"
     ]
    }
   ],
   "source": [
    "H, W = map(int, input().split())\n",
    "t = []\n",
    "for _ in range(H):\n",
    "    x = input()\n",
    "    if x != '.' * W:\n",
    "        t += [x]\n",
    "num = len(t)\n",
    "k = []\n",
    "for s in zip(*t):\n",
    "    s = ''.join(s)\n",
    "    if s != '.' * num:\n",
    "        k += [s]\n",
    "for x in zip(*k):\n",
    "    print(''.join(x))"
   ]
  },
  {
   "cell_type": "code",
   "execution_count": 1,
   "metadata": {},
   "outputs": [
    {
     "name": "stdout",
     "output_type": "stream",
     "text": [
      "4 5\n",
      "...##\n",
      ".....\n",
      "...#.\n",
      "..#..\n",
      ".##\n",
      ".#.\n",
      "#..\n"
     ]
    }
   ],
   "source": [
    "h, w = map(int, input().split())\n",
    "a = []\n",
    "ans = []\n",
    "for _ in range(h):\n",
    "    aw = input()\n",
    "    if set(aw) != {'.'}:\n",
    "        a.append(aw)\n",
    "\n",
    "for i in zip(*a):\n",
    "    if set(i) != {'.'}:\n",
    "        ans.append(\"\".join(list(i)))\n",
    "        \n",
    "for j in zip(*ans):\n",
    "    print(\"\".join(list(j)))\n"
   ]
  },
  {
   "cell_type": "code",
   "execution_count": null,
   "metadata": {},
   "outputs": [],
   "source": [
    "#106 B"
   ]
  },
  {
   "cell_type": "code",
   "execution_count": 8,
   "metadata": {},
   "outputs": [
    {
     "name": "stdout",
     "output_type": "stream",
     "text": [
      "7\n",
      "0\n"
     ]
    }
   ],
   "source": [
    "a=int(input())\n",
    "b=1\n",
    "ans=0\n",
    "for i in range(1,a+1):\n",
    "    if i%2==1:\n",
    "        for j in range(1,i+1):\n",
    "            if i%j==0:\n",
    "                b+=1\n",
    "        if b==8:\n",
    "            ans+=1\n",
    "    b=0\n",
    "print(ans)"
   ]
  },
  {
   "cell_type": "code",
   "execution_count": null,
   "metadata": {},
   "outputs": [],
   "source": [
    "#105 B"
   ]
  },
  {
   "cell_type": "code",
   "execution_count": 19,
   "metadata": {},
   "outputs": [
    {
     "name": "stdout",
     "output_type": "stream",
     "text": [
      "3\n",
      "No\n"
     ]
    }
   ],
   "source": [
    "a=int(input())\n",
    "b=\"\"\n",
    "if a%7==0:\n",
    "    b=\"Yes\"\n",
    "elif a%4==0:\n",
    "    b=\"Yes\"\n",
    "else:\n",
    "    for i in range(1,16):\n",
    "        for j in range(1,26):\n",
    "            if 4*j+7*i==a:\n",
    "                b=\"Yes\"\n",
    "                break\n",
    "            else:\n",
    "                b=\"No\"\n",
    "        if b==\"Yes\":\n",
    "            break\n",
    "print(b)"
   ]
  },
  {
   "cell_type": "code",
   "execution_count": 1,
   "metadata": {},
   "outputs": [],
   "source": [
    "#104 B"
   ]
  },
  {
   "cell_type": "code",
   "execution_count": 10,
   "metadata": {},
   "outputs": [
    {
     "name": "stdout",
     "output_type": "stream",
     "text": [
      "11\n",
      "15\n",
      "18\n",
      "22\n"
     ]
    }
   ],
   "source": [
    "for i in range(1,3):\n",
    "    for j in range(1,3):\n",
    "        print(4*j+7*i)"
   ]
  },
  {
   "cell_type": "code",
   "execution_count": 2,
   "metadata": {},
   "outputs": [],
   "source": [
    "#103 B　"
   ]
  },
  {
   "cell_type": "code",
   "execution_count": 13,
   "metadata": {},
   "outputs": [
    {
     "name": "stdout",
     "output_type": "stream",
     "text": [
      "aaaaab\n",
      "aaaaab\n",
      "Yes\n"
     ]
    }
   ],
   "source": [
    "a=str(input())\n",
    "b=str(input())\n",
    "c=\"\"\n",
    "for i in range(len(a)):\n",
    "    if a[i]==0:\n",
    "        if a==b:\n",
    "            c=\"Yes\"\n",
    "            break\n",
    "        else:\n",
    "            c=\"No\"\n",
    "    elif a[i]==b:\n",
    "        if a[i]+a[j:len(a)]==b:\n",
    "            c=\"Yes\"\n",
    "            break\n",
    "        else:\n",
    "            c=\"No\"\n",
    "    else:\n",
    "        if a[i:len(a)]+a[0:i]==b:\n",
    "            c=\"Yes\"\n",
    "            break\n",
    "        else:\n",
    "            c=\"No\"\n",
    "print(c)"
   ]
  },
  {
   "cell_type": "code",
   "execution_count": null,
   "metadata": {},
   "outputs": [],
   "source": [
    "#102 B"
   ]
  },
  {
   "cell_type": "code",
   "execution_count": 2,
   "metadata": {},
   "outputs": [
    {
     "name": "stdout",
     "output_type": "stream",
     "text": [
      "2\n",
      "1 1\n",
      "0\n"
     ]
    }
   ],
   "source": [
    "a=int(input())\n",
    "b=list(map(int,input().split()))\n",
    "print(abs(max(b)-min(b)))"
   ]
  },
  {
   "cell_type": "code",
   "execution_count": null,
   "metadata": {},
   "outputs": [],
   "source": [
    "#101 B"
   ]
  },
  {
   "cell_type": "code",
   "execution_count": 11,
   "metadata": {},
   "outputs": [
    {
     "name": "stdout",
     "output_type": "stream",
     "text": [
      "101\n",
      "No\n"
     ]
    }
   ],
   "source": [
    "a=str(input())\n",
    "b=0\n",
    "for i in range(len(a)):\n",
    "    b+=int(a[i])\n",
    "if int(a)%b==0:\n",
    "    print(\"Yes\")\n",
    "else:\n",
    "    print(\"No\")"
   ]
  },
  {
   "cell_type": "code",
   "execution_count": null,
   "metadata": {},
   "outputs": [],
   "source": [
    "#100 B"
   ]
  },
  {
   "cell_type": "code",
   "execution_count": 1,
   "metadata": {},
   "outputs": [
    {
     "name": "stdout",
     "output_type": "stream",
     "text": [
      "2 85\n",
      "850000\n"
     ]
    }
   ],
   "source": [
    "a=list(map(int,input().split()))\n",
    "if a[0]==0 and a[1]!=100:\n",
    "    print(a[1])\n",
    "elif a[0]==0 and a[1]==100:\n",
    "    print(101)\n",
    "elif a[0]==1 and a[1]!=100:\n",
    "    print(str(a[1])+\"00\")\n",
    "elif a[0]==1 and a[1]==100:\n",
    "    print(10100)\n",
    "elif a[0]==2 and a[1]!=100:\n",
    "    print(str(a[1])+\"0000\")\n",
    "elif a[0]==2 and a[1]==100:\n",
    "    print(1010000)"
   ]
  },
  {
   "cell_type": "code",
   "execution_count": null,
   "metadata": {},
   "outputs": [],
   "source": [
    "#99 B"
   ]
  },
  {
   "cell_type": "code",
   "execution_count": 3,
   "metadata": {},
   "outputs": [
    {
     "name": "stdout",
     "output_type": "stream",
     "text": [
      "54 65\n",
      "1\n"
     ]
    }
   ],
   "source": [
    "a=list(map(int,input().split()))\n",
    "sum=0\n",
    "for i in range(1,a[1]-a[0]):\n",
    "    sum+=i\n",
    "print(sum-a[0])"
   ]
  },
  {
   "cell_type": "code",
   "execution_count": null,
   "metadata": {},
   "outputs": [],
   "source": [
    "#98 B"
   ]
  },
  {
   "cell_type": "code",
   "execution_count": 9,
   "metadata": {},
   "outputs": [
    {
     "name": "stdout",
     "output_type": "stream",
     "text": [
      "45\n",
      "tgxgdqkyjzhyputjjtllptdfxocrylqfqjynmfbfucbir\n",
      "9\n"
     ]
    }
   ],
   "source": [
    "int(input())\n",
    "a=str(input())\n",
    "b,c,d=set(),set(),set()\n",
    "e=0\n",
    "for i in range(len(a)):\n",
    "    for j in range(i):\n",
    "        b.add(a[j])\n",
    "    for k in range(i,len(a)):\n",
    "        c.add(a[k])\n",
    "    for l in range(len(b)):\n",
    "        b=list(b)\n",
    "        if b[l] in c:\n",
    "            e+=1\n",
    "    d.add(e)\n",
    "    b,c=set(),set()\n",
    "    e=0\n",
    "print(max(d))"
   ]
  },
  {
   "cell_type": "code",
   "execution_count": 6,
   "metadata": {},
   "outputs": [
    {
     "name": "stdout",
     "output_type": "stream",
     "text": [
      "6\n",
      "aabbca\n"
     ]
    }
   ],
   "source": [
    "a=int(input())\n",
    "b=str(input())\n",
    "c=[]\n",
    "#&は論理積を表す\n",
    "#(len(set(b[:i])&set(b[i:a])) for i in range(1,a))はgenerator（listのようなもの）で表される\n",
    "print(max(len(set(b[:i])&set(b[i:a])) for i in range(1,a)))"
   ]
  },
  {
   "cell_type": "code",
   "execution_count": null,
   "metadata": {},
   "outputs": [],
   "source": [
    "#97 B"
   ]
  },
  {
   "cell_type": "code",
   "execution_count": 4,
   "metadata": {},
   "outputs": [
    {
     "name": "stdout",
     "output_type": "stream",
     "text": [
      "999\n",
      "961\n"
     ]
    }
   ],
   "source": [
    "a=int(input())\n",
    "b=set()\n",
    "ans=0\n",
    "for i in range(1,a+1):\n",
    "    for j in range(1,33):\n",
    "        for k in range(2,10):\n",
    "            if j**k==i:\n",
    "                ans=i\n",
    "print(ans)"
   ]
  },
  {
   "cell_type": "code",
   "execution_count": null,
   "metadata": {},
   "outputs": [],
   "source": [
    "#96 B"
   ]
  },
  {
   "cell_type": "code",
   "execution_count": 3,
   "metadata": {
    "scrolled": false
   },
   "outputs": [
    {
     "name": "stdout",
     "output_type": "stream",
     "text": [
      "3 3 4\n",
      "2\n",
      "22\n"
     ]
    }
   ],
   "source": [
    "a=list(map(int,input().split()))\n",
    "b=int(input())\n",
    "print(sum(a)-max(a)+(max(a)*2**b))"
   ]
  },
  {
   "cell_type": "code",
   "execution_count": 23,
   "metadata": {},
   "outputs": [
    {
     "name": "stdout",
     "output_type": "stream",
     "text": [
      "21\n"
     ]
    }
   ],
   "source": [
    "class maxsum():\n",
    "    def __init__(self,a:int,b:int,c:int,d:int):\n",
    "        self.num1=a\n",
    "        self.num2=b\n",
    "        self.num3=c\n",
    "        self.num4=d\n",
    "    \n",
    "    def print_ans(self):\n",
    "        ans=self.num1+self.num2+self.num3-max(self.num1,self.num2,self.num3)+(max(self.num1,self.num2,self.num3)*2**(self.num4))\n",
    "        print(ans)\n",
    "\n",
    "pro=maxsum(2,3,4,2)\n",
    "pro.print_ans()"
   ]
  },
  {
   "cell_type": "code",
   "execution_count": null,
   "metadata": {},
   "outputs": [],
   "source": [
    "#95 B"
   ]
  },
  {
   "cell_type": "code",
   "execution_count": 6,
   "metadata": {},
   "outputs": [
    {
     "name": "stdout",
     "output_type": "stream",
     "text": [
      "4 360\n",
      "90\n",
      "90\n",
      "90\n",
      "90\n",
      "4\n"
     ]
    }
   ],
   "source": [
    "a=list(map(int,input().split()))\n",
    "b=[]\n",
    "for i in range(a[0]):\n",
    "    b.append(int(input()))\n",
    "print(((a[1]-sum(b))//min(b))+a[0])"
   ]
  },
  {
   "cell_type": "code",
   "execution_count": null,
   "metadata": {},
   "outputs": [],
   "source": [
    "#94 B"
   ]
  },
  {
   "cell_type": "code",
   "execution_count": 3,
   "metadata": {},
   "outputs": [
    {
     "name": "stdout",
     "output_type": "stream",
     "text": [
      "10 7 5\n",
      "1 2 3 4 6 8 9\n",
      "3\n"
     ]
    }
   ],
   "source": [
    "a=list(map(int,input().split()))\n",
    "b=list(map(int,input().split()))\n",
    "c,d=0,0\n",
    "for i in range(a[1]):\n",
    "    if b[i]<a[2]:\n",
    "        c+=1\n",
    "    else:\n",
    "        d+=1\n",
    "print(min(c,d))"
   ]
  },
  {
   "cell_type": "code",
   "execution_count": null,
   "metadata": {},
   "outputs": [],
   "source": [
    "#93 B"
   ]
  },
  {
   "cell_type": "code",
   "execution_count": 3,
   "metadata": {
    "scrolled": true
   },
   "outputs": [
    {
     "name": "stdout",
     "output_type": "stream",
     "text": [
      "1 6 3\n",
      "1\n",
      "2\n",
      "3\n",
      "4\n",
      "5\n",
      "6\n"
     ]
    }
   ],
   "source": [
    "a=list(map(int,input().split()))\n",
    "if a[1]-a[0]+1<=2*a[2]:\n",
    "    for i in range(a[0],a[1]+1):\n",
    "        print(i)\n",
    "else:\n",
    "    for j in range(a[2]):\n",
    "        print(a[0]+j)\n",
    "    for k in reversed(range(a[2])):\n",
    "        print(a[1]-k)"
   ]
  },
  {
   "cell_type": "code",
   "execution_count": 9,
   "metadata": {},
   "outputs": [
    {
     "name": "stdout",
     "output_type": "stream",
     "text": [
      "1 6 2\n",
      "1\n",
      "2\n",
      "5\n",
      "6\n"
     ]
    }
   ],
   "source": [
    "a=list(map(int,input().split()))\n",
    "b=range(a[0],a[1]+1)\n",
    "for i in sorted(set(b[:a[2]])|set(b[-a[2]:])):\n",
    "    print(i)"
   ]
  },
  {
   "cell_type": "code",
   "execution_count": null,
   "metadata": {},
   "outputs": [],
   "source": [
    "#92 B"
   ]
  },
  {
   "cell_type": "code",
   "execution_count": 9,
   "metadata": {
    "scrolled": true
   },
   "outputs": [
    {
     "name": "stdout",
     "output_type": "stream",
     "text": [
      "5\n",
      "30 44\n",
      "26\n",
      "18\n",
      "81\n",
      "18\n",
      "6\n",
      "57\n"
     ]
    }
   ],
   "source": [
    "a=int(input())\n",
    "b=list(map(int,input().split()))\n",
    "c=[int(input()) for _ in range(a)]\n",
    "ans=0\n",
    "for i in range(a):\n",
    "    ans+=b[0]//int(c[i])+1\n",
    "for k in range(a):\n",
    "    if c[k]==1 or b[0]%int(c[k])==0:\n",
    "        ans-=1\n",
    "print(ans+b[1])"
   ]
  },
  {
   "cell_type": "code",
   "execution_count": 5,
   "metadata": {},
   "outputs": [
    {
     "data": {
      "text/plain": [
       "[7, 1]"
      ]
     },
     "execution_count": 5,
     "metadata": {},
     "output_type": "execute_result"
    }
   ],
   "source": [
    "c"
   ]
  },
  {
   "cell_type": "code",
   "execution_count": null,
   "metadata": {},
   "outputs": [],
   "source": [
    "#91 B"
   ]
  },
  {
   "cell_type": "code",
   "execution_count": 15,
   "metadata": {},
   "outputs": [
    {
     "name": "stdout",
     "output_type": "stream",
     "text": [
      "1\n",
      "gh\n",
      "2\n",
      "gh\n",
      "gh\n",
      "0\n"
     ]
    }
   ],
   "source": [
    "a=int(input())\n",
    "b,d,e=[],[],[0]\n",
    "for i in range(a):\n",
    "    b.append(str(input()))\n",
    "c=int(input())\n",
    "up,down=0,0\n",
    "for j in range(c):\n",
    "    d.append(str(input()))\n",
    "for k in set(b):\n",
    "    up+=b.count(k)\n",
    "    down+=d.count(k)\n",
    "    e.append(up-down)\n",
    "    up,down=0,0\n",
    "print(max(e))"
   ]
  },
  {
   "cell_type": "code",
   "execution_count": 17,
   "metadata": {},
   "outputs": [
    {
     "name": "stdout",
     "output_type": "stream",
     "text": [
      "3\n",
      "apple\n",
      "orange\n",
      "apple\n",
      "1\n",
      "grape\n",
      "2\n"
     ]
    }
   ],
   "source": [
    "a=int(input())\n",
    "b=[input() for _ in range(a)]\n",
    "c=int(input())\n",
    "d=[input() for _ in range(c)]\n",
    "print(max([b.count(e)-d.count(e) for e in b]+[0]))"
   ]
  },
  {
   "cell_type": "code",
   "execution_count": null,
   "metadata": {},
   "outputs": [],
   "source": [
    "#90 B"
   ]
  },
  {
   "cell_type": "code",
   "execution_count": null,
   "metadata": {},
   "outputs": [],
   "source": [
    "a=list(map(int,input().split()))\n",
    "ans=0\n",
    "for i in range(a[0],a[1]+1):\n",
    "    if str(i)==str(i)[::-1]:\n",
    "        ans+=1\n",
    "print(ans)"
   ]
  },
  {
   "cell_type": "code",
   "execution_count": null,
   "metadata": {},
   "outputs": [],
   "source": [
    "#89 B"
   ]
  },
  {
   "cell_type": "code",
   "execution_count": 2,
   "metadata": {},
   "outputs": [
    {
     "name": "stdout",
     "output_type": "stream",
     "text": [
      "6\n",
      "G W Y P Y W\n",
      "Four\n"
     ]
    }
   ],
   "source": [
    "a=int(input())\n",
    "b=list(map(str,input().split()))\n",
    "ans=\"Three\"\n",
    "for i in range(a):\n",
    "    if b[i]==\"Y\":\n",
    "        ans=\"Four\"\n",
    "print(ans)"
   ]
  },
  {
   "cell_type": "code",
   "execution_count": null,
   "metadata": {},
   "outputs": [],
   "source": [
    "#88 B"
   ]
  },
  {
   "cell_type": "code",
   "execution_count": 3,
   "metadata": {},
   "outputs": [
    {
     "name": "stdout",
     "output_type": "stream",
     "text": [
      "4\n",
      "20 18 2 18\n",
      "18\n"
     ]
    }
   ],
   "source": [
    "a=int(input())\n",
    "b=list(map(int,input().split()))\n",
    "ans=0\n",
    "for i in range(a):\n",
    "    if  i%2==1:\n",
    "        ans-=max(b)\n",
    "        b.remove(max(b))\n",
    "    else:\n",
    "        ans+=max(b)\n",
    "        b.remove(max(b))\n",
    "print(ans)"
   ]
  },
  {
   "cell_type": "code",
   "execution_count": null,
   "metadata": {},
   "outputs": [],
   "source": [
    "#87 B"
   ]
  },
  {
   "cell_type": "code",
   "execution_count": 3,
   "metadata": {},
   "outputs": [
    {
     "name": "stdout",
     "output_type": "stream",
     "text": [
      "2\n",
      "2\n",
      "2\n",
      "100\n",
      "2\n"
     ]
    }
   ],
   "source": [
    "a=[int(input()) for _ in range(3)]\n",
    "b=int(input())\n",
    "c,ans=[],0\n",
    "for k in range(a[0]+1):\n",
    "    for i in range(a[1]+1):\n",
    "        for j in range(a[2]+1):\n",
    "            c.append(500*k+100*i+50*j)\n",
    "for l in range(len(c)):\n",
    "    if c[l]==b:\n",
    "        ans+=1\n",
    "print(ans)"
   ]
  },
  {
   "cell_type": "code",
   "execution_count": null,
   "metadata": {},
   "outputs": [],
   "source": [
    "#83 B"
   ]
  },
  {
   "cell_type": "code",
   "execution_count": 9,
   "metadata": {},
   "outputs": [
    {
     "name": "stdout",
     "output_type": "stream",
     "text": [
      "100 4 16\n",
      "4554\n"
     ]
    }
   ],
   "source": [
    "a=list(map(int,input().split()))\n",
    "b=0\n",
    "ans=0\n",
    "for i in range(1,a[0]+1):\n",
    "    for k in range(len(str(i))):\n",
    "        b+=int(str(i)[k])\n",
    "    if a[1]<=b<=a[2]:\n",
    "        ans+=i\n",
    "    b=0\n",
    "print(ans)"
   ]
  },
  {
   "cell_type": "code",
   "execution_count": null,
   "metadata": {},
   "outputs": [],
   "source": [
    "#165 C"
   ]
  },
  {
   "cell_type": "code",
   "execution_count": 43,
   "metadata": {},
   "outputs": [
    {
     "name": "stdout",
     "output_type": "stream",
     "text": [
      "4 6 10\n",
      "2 4 1 86568\n",
      "1 4 0 90629\n",
      "2 3 0 90310\n",
      "3 4 1 29211\n",
      "3 4 3 78537\n",
      "3 4 2 8580\n",
      "1 2 1 96263\n",
      "1 4 2 2156\n",
      "1 2 0 94325\n",
      "1 4 3 94328\n"
     ]
    },
    {
     "ename": "IndexError",
     "evalue": "list index out of range",
     "output_type": "error",
     "traceback": [
      "\u001b[1;31m---------------------------------------------------------------------------\u001b[0m",
      "\u001b[1;31mIndexError\u001b[0m                                Traceback (most recent call last)",
      "\u001b[1;32m<ipython-input-43-82bbb8b77f22>\u001b[0m in \u001b[0;36m<module>\u001b[1;34m\u001b[0m\n\u001b[0;32m     10\u001b[0m             \u001b[0mc\u001b[0m\u001b[1;33m=\u001b[0m\u001b[1;33m[\u001b[0m\u001b[0mi\u001b[0m\u001b[1;33m,\u001b[0m\u001b[0mj\u001b[0m\u001b[1;33m,\u001b[0m\u001b[0mk\u001b[0m\u001b[1;33m]\u001b[0m\u001b[1;33m\u001b[0m\u001b[1;33m\u001b[0m\u001b[0m\n\u001b[0;32m     11\u001b[0m             \u001b[1;32mfor\u001b[0m \u001b[0ml\u001b[0m \u001b[1;32min\u001b[0m \u001b[0mrange\u001b[0m\u001b[1;33m(\u001b[0m\u001b[0ma\u001b[0m\u001b[1;33m[\u001b[0m\u001b[1;36m2\u001b[0m\u001b[1;33m]\u001b[0m\u001b[1;33m)\u001b[0m\u001b[1;33m:\u001b[0m\u001b[1;33m\u001b[0m\u001b[1;33m\u001b[0m\u001b[0m\n\u001b[1;32m---> 12\u001b[1;33m                 \u001b[1;32mif\u001b[0m \u001b[0mc\u001b[0m\u001b[1;33m[\u001b[0m\u001b[0mb\u001b[0m\u001b[1;33m[\u001b[0m\u001b[0ml\u001b[0m\u001b[1;33m]\u001b[0m\u001b[1;33m[\u001b[0m\u001b[1;36m1\u001b[0m\u001b[1;33m]\u001b[0m\u001b[1;33m-\u001b[0m\u001b[1;36m1\u001b[0m\u001b[1;33m]\u001b[0m\u001b[1;33m-\u001b[0m\u001b[0mc\u001b[0m\u001b[1;33m[\u001b[0m\u001b[0mb\u001b[0m\u001b[1;33m[\u001b[0m\u001b[0ml\u001b[0m\u001b[1;33m]\u001b[0m\u001b[1;33m[\u001b[0m\u001b[1;36m0\u001b[0m\u001b[1;33m]\u001b[0m\u001b[1;33m-\u001b[0m\u001b[1;36m1\u001b[0m\u001b[1;33m]\u001b[0m\u001b[1;33m==\u001b[0m\u001b[0mb\u001b[0m\u001b[1;33m[\u001b[0m\u001b[0ml\u001b[0m\u001b[1;33m]\u001b[0m\u001b[1;33m[\u001b[0m\u001b[1;36m2\u001b[0m\u001b[1;33m]\u001b[0m\u001b[1;33m:\u001b[0m\u001b[1;33m\u001b[0m\u001b[1;33m\u001b[0m\u001b[0m\n\u001b[0m\u001b[0;32m     13\u001b[0m                     \u001b[0mans\u001b[0m\u001b[1;33m+=\u001b[0m\u001b[0mb\u001b[0m\u001b[1;33m[\u001b[0m\u001b[0ml\u001b[0m\u001b[1;33m]\u001b[0m\u001b[1;33m[\u001b[0m\u001b[1;36m3\u001b[0m\u001b[1;33m]\u001b[0m\u001b[1;33m\u001b[0m\u001b[1;33m\u001b[0m\u001b[0m\n\u001b[0;32m     14\u001b[0m             \u001b[0md\u001b[0m\u001b[1;33m.\u001b[0m\u001b[0mappend\u001b[0m\u001b[1;33m(\u001b[0m\u001b[0mans\u001b[0m\u001b[1;33m)\u001b[0m\u001b[1;33m\u001b[0m\u001b[1;33m\u001b[0m\u001b[0m\n",
      "\u001b[1;31mIndexError\u001b[0m: list index out of range"
     ]
    }
   ],
   "source": [
    "a=list(map(int,input().split()))\n",
    "b=[]\n",
    "ans=0\n",
    "c=[]\n",
    "for _ in range(a[2]):\n",
    "    b.append(list(map(int,input().split())))\n",
    "\n",
    "for i in range(1,a[1]+1):\n",
    "    for j in range(i,a[1]+1):\n",
    "        for k in range(j,a[1]+1):\n",
    "            c=[i,j,k]\n",
    "            for l in range(a[2]):\n",
    "                if c[b[l][1]-1]-c[b[l][0]-1]==b[l][2]:\n",
    "                    ans+=b[l][3]\n",
    "            d.append(ans)\n",
    "            ans=0\n",
    "print(max(d))"
   ]
  },
  {
   "cell_type": "code",
   "execution_count": null,
   "metadata": {},
   "outputs": [],
   "source": [
    "#90 C"
   ]
  },
  {
   "cell_type": "code",
   "execution_count": 26,
   "metadata": {},
   "outputs": [
    {
     "name": "stdout",
     "output_type": "stream",
     "text": [
      "31415 92653\n",
      "612\n"
     ]
    }
   ],
   "source": [
    "a=list(map(int,input().split()))\n",
    "ans=0\n",
    "for i in range(a[0],a[1]+1):\n",
    "    if str(i)==str(i)[::-1]:\n",
    "        ans+=1\n",
    "print(ans)"
   ]
  },
  {
   "cell_type": "code",
   "execution_count": null,
   "metadata": {},
   "outputs": [],
   "source": [
    "#167 C"
   ]
  },
  {
   "cell_type": "code",
   "execution_count": null,
   "metadata": {},
   "outputs": [],
   "source": [
    "import numpy as np\n",
    "import itertools\n",
    "n,m,x=map(int,input().split())\n",
    "a=[]\n",
    "b=[0]*m\n",
    "skill=np.array([b])\n",
    "ans=[]\n",
    "money=0\n",
    "for _ in range(n):\n",
    "    a.append(list(map(int,input().split())))\n",
    "for i in range(1,n+1):\n",
    "    for j in itertools.combinations(range(1,n+1),i):\n",
    "        for k in range(len(j)):\n",
    "            money+=a[j[k]-1][0]\n",
    "            skill+=np.array([a[j[k]-1][1:m+1]])\n",
    "        if all([i>=x for i in skill[0]]):\n",
    "            ans.append(money)\n",
    "        money=0\n",
    "        skill=np.array([b])\n",
    "if len(ans)==0:\n",
    "    print(-1)\n",
    "else:\n",
    "    print(min(ans))"
   ]
  },
  {
   "cell_type": "code",
   "execution_count": null,
   "metadata": {},
   "outputs": [],
   "source": [
    "#166 C ×"
   ]
  },
  {
   "cell_type": "code",
   "execution_count": null,
   "metadata": {},
   "outputs": [],
   "source": [
    "N,M=map(int,input().split())\n",
    "H=list(map(int,input().split()))\n",
    "a,ans=[],set()\n",
    "for _ in range(M):\n",
    "    a.append(list(map(int,input().split())))\n",
    "for i in range(M):\n",
    "    if H[(a[i][0])-1]>H[(a[i][1])-1]:\n",
    "        ans.add(a[i][0])\n",
    "        if len(ans)!=0:\n",
    "            for k in range(len(ans)):\n",
    "                if list(ans)[k]==a[i][1]:\n",
    "                    ans.remove(list(ans)[k])\n",
    "                    break\n",
    "    elif H[(a[i][0])-1]<H[(a[i][1])-1]:\n",
    "        ans.add(a[i][1])\n",
    "        if len(ans)!=0:    \n",
    "            for j in range(len(ans)):\n",
    "                if list(ans)[j]==a[i][0]:\n",
    "                    ans.remove(list(ans)[j])\n",
    "                    break\n",
    "n=set()\n",
    "for k in range(M):\n",
    "    for l in range(2):\n",
    "        n.add(a[k][l])\n",
    "print(len(ans)+M-len(n))"
   ]
  },
  {
   "cell_type": "code",
   "execution_count": 2,
   "metadata": {},
   "outputs": [
    {
     "name": "stdout",
     "output_type": "stream",
     "text": [
      "6 5\n",
      "8 6 9 1 2 1\n",
      "1 3\n",
      "4 2\n",
      "4 3\n",
      "4 5\n",
      "4 5\n",
      "4\n"
     ]
    }
   ],
   "source": [
    "N,M=map(int,input().split())\n",
    "H=list(map(int,input().split()))\n",
    "t=[1]*N\n",
    "for i in range(M):\n",
    "    a,b=map(int,input().split())\n",
    "    if H[a-1]>H[b-1]:\n",
    "        t[b-1]=0\n",
    "    elif H[a-1]<H[b-1]:\n",
    "        t[a-1]=0\n",
    "    else:\n",
    "        t[a-1],t[b-1]=0,0\n",
    "print(sum(t))"
   ]
  },
  {
   "cell_type": "code",
   "execution_count": null,
   "metadata": {},
   "outputs": [],
   "source": [
    "#165  C×"
   ]
  },
  {
   "cell_type": "code",
   "execution_count": null,
   "metadata": {},
   "outputs": [],
   "source": [
    "a=list(map(int,input().split()))\n",
    "b=[]\n",
    "ans=0\n",
    "c=[]\n",
    "for _ in range(a[2]):\n",
    "    b.append(list(map(int,input().split())))\n",
    "\n",
    "for i in range(1,a[1]+1):\n",
    "    for j in range(i,a[1]+1):\n",
    "        for k in range(j,a[1]+1):\n",
    "            c=[i,j,k]\n",
    "            for l in range(a[2]):\n",
    "                if c[b[l][1]-1]-c[b[l][0]-1]==b[l][2]:\n",
    "                    ans+=b[l][3]\n",
    "            d.append(ans)\n",
    "            ans=0\n",
    "\n",
    "            print(max(d))"
   ]
  },
  {
   "cell_type": "code",
   "execution_count": null,
   "metadata": {},
   "outputs": [],
   "source": [
    "import itertools\n",
    "a=list(map(int,input().split()))\n",
    "b=[]\n",
    "ans=0\n",
    "c=range(1,a[1]+1)\n",
    "d=[]\n",
    "for _ in range(a[2]):\n",
    "    b.append(list(map(int,input().split())))\n",
    "\n",
    "\n",
    "for i in itertools.combinations_with_replacement(c,a[0]):\n",
    "    for l in range(a[2]):\n",
    "        if i[b[l][1]-1]-i[b[l][0]-1]==b[l][2]:\n",
    "            ans+=b[l][3]\n",
    "    d.append(ans)\n",
    "    ans=0\n",
    "print(max(d))"
   ]
  },
  {
   "cell_type": "code",
   "execution_count": null,
   "metadata": {},
   "outputs": [],
   "source": [
    "#164 C"
   ]
  },
  {
   "cell_type": "code",
   "execution_count": 4,
   "metadata": {},
   "outputs": [
    {
     "name": "stdout",
     "output_type": "stream",
     "text": [
      "3\n",
      "apple\n",
      "grape\n",
      "apple\n",
      "2\n"
     ]
    }
   ],
   "source": [
    "a=int(input())\n",
    "b=[str(input()) for _ in range(a)]\n",
    "print(len(set(b)))"
   ]
  },
  {
   "cell_type": "code",
   "execution_count": null,
   "metadata": {},
   "outputs": [],
   "source": [
    "#163 C"
   ]
  },
  {
   "cell_type": "code",
   "execution_count": 8,
   "metadata": {},
   "outputs": [
    {
     "name": "stdout",
     "output_type": "stream",
     "text": [
      "7\n",
      "1 2 3 4 5 6\n",
      "1\n",
      "1\n",
      "1\n",
      "1\n",
      "1\n",
      "1\n",
      "0\n"
     ]
    }
   ],
   "source": [
    "a=int(input())\n",
    "b=list(map(int,input().split()))\n",
    "ans=0\n",
    "for i in range(1,len(b)+2):\n",
    "    for j in range(len(b)):\n",
    "        if i==b[j]:\n",
    "            ans+=1\n",
    "    print(ans)\n",
    "    ans=0"
   ]
  },
  {
   "cell_type": "code",
   "execution_count": 10,
   "metadata": {},
   "outputs": [
    {
     "name": "stdout",
     "output_type": "stream",
     "text": [
      "7\n",
      "1 2 3 4 5 6\n",
      "1\n",
      "1\n",
      "1\n",
      "1\n",
      "1\n",
      "1\n",
      "0\n"
     ]
    }
   ],
   "source": [
    "a=int(input())\n",
    "b=list(map(int,input().split()))\n",
    "ans=0\n",
    "for i in range(1,a+1):\n",
    "    print(b.count(i))"
   ]
  },
  {
   "cell_type": "code",
   "execution_count": 12,
   "metadata": {
    "scrolled": true
   },
   "outputs": [
    {
     "name": "stdout",
     "output_type": "stream",
     "text": [
      "7\n",
      "1 2 3 4 5 6\n",
      "0\n",
      "1\n",
      "1\n",
      "1\n",
      "1\n",
      "1\n",
      "1\n"
     ]
    }
   ],
   "source": [
    "a=int(input())\n",
    "b=[0]*a\n",
    "c=list(map(int,input().split()))\n",
    "for i in c:\n",
    "    b[i-1]+=1\n",
    "print(*b,sep=\"\\n\")"
   ]
  },
  {
   "cell_type": "code",
   "execution_count": null,
   "metadata": {},
   "outputs": [],
   "source": [
    "#162 C"
   ]
  },
  {
   "cell_type": "code",
   "execution_count": 7,
   "metadata": {},
   "outputs": [
    {
     "name": "stdout",
     "output_type": "stream",
     "text": [
      "200\n",
      "10813692\n"
     ]
    }
   ],
   "source": [
    "a=int(input())\n",
    "import math\n",
    "print(sum(math.gcd(math.gcd(i,j),k)for i in range(1,a+1) for j in range(1,a+1) for k in range(1,a+1)))"
   ]
  },
  {
   "cell_type": "code",
   "execution_count": null,
   "metadata": {},
   "outputs": [],
   "source": [
    "#161 C"
   ]
  },
  {
   "cell_type": "code",
   "execution_count": null,
   "metadata": {},
   "outputs": [],
   "source": [
    "a,b=tuple(map(int,input().split()))\n",
    "while True:\n",
    "    if a>=abs(a-b):\n",
    "        a=abs(a-b)\n",
    "    else:\n",
    "        break\n",
    "print(a)"
   ]
  },
  {
   "cell_type": "code",
   "execution_count": null,
   "metadata": {},
   "outputs": [],
   "source": [
    "#160 C"
   ]
  },
  {
   "cell_type": "code",
   "execution_count": 2,
   "metadata": {},
   "outputs": [
    {
     "name": "stdout",
     "output_type": "stream",
     "text": [
      "20 4\n",
      "1 3 17 19\n",
      "6\n"
     ]
    }
   ],
   "source": [
    "a=list(map(int,input().split()))\n",
    "b=list(map(int,input().split()))\n",
    "c=[]\n",
    "for i in range(a[1]):\n",
    "    if i==a[1]-1:\n",
    "        if b[0]==0:\n",
    "            b[0]=a[0]\n",
    "            c.append(abs(b[i]-b[0]))\n",
    "        else:\n",
    "            c.append(abs(b[i]-(b[0]+a[0])))\n",
    "    elif i!=a[1]-1:\n",
    "        c.append(abs(b[i]-b[i+1]))\n",
    "print(a[0]-max(c))"
   ]
  },
  {
   "cell_type": "code",
   "execution_count": null,
   "metadata": {},
   "outputs": [],
   "source": [
    "#159 C"
   ]
  },
  {
   "cell_type": "code",
   "execution_count": 5,
   "metadata": {},
   "outputs": [
    {
     "name": "stdout",
     "output_type": "stream",
     "text": [
      "999\n",
      "36926037.0\n"
     ]
    }
   ],
   "source": [
    "a=int(input())\n",
    "print(float(a/3)**3)"
   ]
  },
  {
   "cell_type": "code",
   "execution_count": null,
   "metadata": {},
   "outputs": [],
   "source": [
    "#158 C"
   ]
  },
  {
   "cell_type": "code",
   "execution_count": null,
   "metadata": {},
   "outputs": [],
   "source": [
    "import sys\n",
    "import math\n",
    "a,b=map(int,input().split())\n",
    "for i in range(1,1001):\n",
    "    if math.floor(i*0.08)==a and math.floor(i*0.1)==b:\n",
    "        print(i)\n",
    "        sys.exit()\n",
    "print(-1)"
   ]
  },
  {
   "cell_type": "code",
   "execution_count": null,
   "metadata": {},
   "outputs": [],
   "source": [
    "#157 C ×"
   ]
  },
  {
   "cell_type": "code",
   "execution_count": 2,
   "metadata": {},
   "outputs": [
    {
     "name": "stdout",
     "output_type": "stream",
     "text": [
      "a\n"
     ]
    },
    {
     "ename": "ValueError",
     "evalue": "invalid literal for int() with base 10: 'a'",
     "output_type": "error",
     "traceback": [
      "\u001b[1;31m---------------------------------------------------------------------------\u001b[0m",
      "\u001b[1;31mValueError\u001b[0m                                Traceback (most recent call last)",
      "\u001b[1;32m<ipython-input-2-f95c561944c0>\u001b[0m in \u001b[0;36m<module>\u001b[1;34m\u001b[0m\n\u001b[1;32m----> 1\u001b[1;33m \u001b[0mN\u001b[0m\u001b[1;33m,\u001b[0m\u001b[0mM\u001b[0m\u001b[1;33m=\u001b[0m\u001b[0mmap\u001b[0m\u001b[1;33m(\u001b[0m\u001b[0mint\u001b[0m\u001b[1;33m,\u001b[0m\u001b[0minput\u001b[0m\u001b[1;33m(\u001b[0m\u001b[1;33m)\u001b[0m\u001b[1;33m.\u001b[0m\u001b[0msplit\u001b[0m\u001b[1;33m(\u001b[0m\u001b[1;33m)\u001b[0m\u001b[1;33m)\u001b[0m\u001b[1;33m\u001b[0m\u001b[1;33m\u001b[0m\u001b[0m\n\u001b[0m\u001b[0;32m      2\u001b[0m \u001b[0ma\u001b[0m\u001b[1;33m=\u001b[0m\u001b[1;33m[\u001b[0m\u001b[1;33m]\u001b[0m\u001b[1;33m\u001b[0m\u001b[1;33m\u001b[0m\u001b[0m\n\u001b[0;32m      3\u001b[0m \u001b[0mans\u001b[0m\u001b[1;33m=\u001b[0m\u001b[1;33m[\u001b[0m\u001b[1;34m\"a\"\u001b[0m\u001b[1;33m]\u001b[0m\u001b[1;33m*\u001b[0m\u001b[0mN\u001b[0m\u001b[1;33m\u001b[0m\u001b[1;33m\u001b[0m\u001b[0m\n\u001b[0;32m      4\u001b[0m \u001b[1;32mfor\u001b[0m \u001b[0m_\u001b[0m \u001b[1;32min\u001b[0m \u001b[0mrange\u001b[0m\u001b[1;33m(\u001b[0m\u001b[0mM\u001b[0m\u001b[1;33m)\u001b[0m\u001b[1;33m:\u001b[0m\u001b[1;33m\u001b[0m\u001b[1;33m\u001b[0m\u001b[0m\n\u001b[0;32m      5\u001b[0m     \u001b[0ma\u001b[0m\u001b[1;33m.\u001b[0m\u001b[0mappend\u001b[0m\u001b[1;33m(\u001b[0m\u001b[0mlist\u001b[0m\u001b[1;33m(\u001b[0m\u001b[0mmap\u001b[0m\u001b[1;33m(\u001b[0m\u001b[0mint\u001b[0m\u001b[1;33m,\u001b[0m\u001b[0minput\u001b[0m\u001b[1;33m(\u001b[0m\u001b[1;33m)\u001b[0m\u001b[1;33m.\u001b[0m\u001b[0msplit\u001b[0m\u001b[1;33m(\u001b[0m\u001b[1;33m)\u001b[0m\u001b[1;33m)\u001b[0m\u001b[1;33m)\u001b[0m\u001b[1;33m)\u001b[0m\u001b[1;33m\u001b[0m\u001b[1;33m\u001b[0m\u001b[0m\n",
      "\u001b[1;31mValueError\u001b[0m: invalid literal for int() with base 10: 'a'"
     ]
    }
   ],
   "source": [
    "N,M=map(int,input().split())\n",
    "a=[]\n",
    "ans=[\"a\"]*N\n",
    "for _ in range(M):\n",
    "    a.append(list(map(int,input().split())))\n",
    "for i in range(M):\n",
    "    ans[a[i][0]-1]=a[i][1]\n",
    "for j in range(N):\n",
    "    if type(ans[j])!=int:\n",
    "        ans[j]=0\n",
    "if ans[0]==0 and ans[1]!=0 and ans[2]!=0:\n",
    "    if N==2:\n",
    "        print(*ans[1:3],sep=\"\")\n",
    "    else:\n",
    "        print(-1)\n",
    "elif ans[0]==0 and ans[1]==0 and ans[2]!=0:\n",
    "    if N==1:\n",
    "        print(*ans[2:3],sep=\"\")\n",
    "    else:\n",
    "        print(-1)\n",
    "else:\n",
    "    if N==3:\n",
    "        print(*ans,sep=\"\")\n",
    "    else:\n",
    "        print(-1)"
   ]
  },
  {
   "cell_type": "code",
   "execution_count": null,
   "metadata": {},
   "outputs": [],
   "source": [
    "#156 C"
   ]
  },
  {
   "cell_type": "code",
   "execution_count": 3,
   "metadata": {},
   "outputs": [
    {
     "name": "stdout",
     "output_type": "stream",
     "text": [
      "7\n",
      "14 14 2 13 56 2 37\n",
      "2354\n"
     ]
    }
   ],
   "source": [
    "N=int(input())\n",
    "a=list(map(int,input().split()))\n",
    "ans=[]\n",
    "b=0\n",
    "if N==1:\n",
    "    print(0)\n",
    "else:\n",
    "    for i in range(min(a),max(a)+1):\n",
    "        for k in range(N):\n",
    "            b+=(a[k]-i)**2\n",
    "        ans.append(b)\n",
    "        b=0\n",
    "    print(min(ans))"
   ]
  },
  {
   "cell_type": "code",
   "execution_count": null,
   "metadata": {},
   "outputs": [],
   "source": [
    "#155 C"
   ]
  },
  {
   "cell_type": "code",
   "execution_count": 3,
   "metadata": {
    "scrolled": true
   },
   "outputs": [
    {
     "name": "stdout",
     "output_type": "stream",
     "text": [
      "7\n",
      "bass\n",
      "bass\n",
      "ans\n",
      "ans\n",
      "kick\n",
      "kick\n",
      "a\n",
      "ans\n",
      "bass\n",
      "kick\n"
     ]
    }
   ],
   "source": [
    "import collections\n",
    "n=int(input())\n",
    "s=[]\n",
    "for _ in range(n):\n",
    "    s.append(str(input()))\n",
    "ans=collections.Counter(s)\n",
    "a=max(ans.values())\n",
    "d=[i for i,k in ans.items() if a==k]\n",
    "print(*sorted(d),sep=\"\\n\")"
   ]
  },
  {
   "cell_type": "code",
   "execution_count": null,
   "metadata": {},
   "outputs": [],
   "source": [
    "#154 C"
   ]
  },
  {
   "cell_type": "code",
   "execution_count": null,
   "metadata": {},
   "outputs": [],
   "source": [
    "n=int(input())\n",
    "a=list(map(int,input().split()))\n",
    "if len(set(a))==len(a):\n",
    "    print(\"Yes\")\n",
    "else:\n",
    "    print(\"No\")"
   ]
  },
  {
   "cell_type": "code",
   "execution_count": null,
   "metadata": {},
   "outputs": [],
   "source": [
    "#153 C"
   ]
  },
  {
   "cell_type": "code",
   "execution_count": 24,
   "metadata": {},
   "outputs": [
    {
     "name": "stdout",
     "output_type": "stream",
     "text": [
      "3 0\n",
      "1000000000 1000000000 1000000000\n",
      "3000000000\n"
     ]
    }
   ],
   "source": [
    "n,k=map(int,input().split())\n",
    "h=sorted(list(map(int,input().split())))\n",
    "t=h[::-1]\n",
    "if k>n:\n",
    "    print(0)\n",
    "elif k==0:\n",
    "    print(sum(h))\n",
    "else:\n",
    "    for i in range(k):\n",
    "        t[i]=0\n",
    "    print(sum(t))"
   ]
  },
  {
   "cell_type": "code",
   "execution_count": null,
   "metadata": {},
   "outputs": [],
   "source": [
    "#152 C"
   ]
  },
  {
   "cell_type": "code",
   "execution_count": 10,
   "metadata": {},
   "outputs": [
    {
     "name": "stdout",
     "output_type": "stream",
     "text": [
      "1\n",
      "1\n",
      "1\n"
     ]
    }
   ],
   "source": [
    "n=int(input())\n",
    "p=list(map(int,input().split()))\n",
    "ans=0\n",
    "MIN=p[0]\n",
    "for i in range(n):\n",
    "    if p[i]<=MIN:\n",
    "        MIN=p[i]\n",
    "        ans+=1\n",
    "print(ans)"
   ]
  },
  {
   "cell_type": "code",
   "execution_count": null,
   "metadata": {},
   "outputs": [],
   "source": [
    "#151 C"
   ]
  },
  {
   "cell_type": "code",
   "execution_count": 11,
   "metadata": {},
   "outputs": [
    {
     "name": "stdout",
     "output_type": "stream",
     "text": [
      "3 5\n",
      "1 AC\n",
      "1 WA\n",
      "2 AC\n",
      "2 WA\n",
      "3 WA\n",
      "2 1\n"
     ]
    }
   ],
   "source": [
    "N,M=map(int,input().split())\n",
    "P,S=[],[]\n",
    "count=0\n",
    "ans,pen=0,0\n",
    "for _ in range(M):\n",
    "    A,B=map(str,input().split())\n",
    "    P.append(int(A))\n",
    "    S.append(B)\n",
    "for i in range(1,N+1):\n",
    "    for j in range(count,M):\n",
    "        if i==P[j] and S[j]==\"WA\":\n",
    "            pen+=1\n",
    "            count+=1\n",
    "        elif i==P[j] and S[j]==\"AC\":\n",
    "            ans+=1\n",
    "            count+=1\n",
    "            break\n",
    "print(ans,pen)"
   ]
  },
  {
   "cell_type": "code",
   "execution_count": 22,
   "metadata": {},
   "outputs": [
    {
     "name": "stdout",
     "output_type": "stream",
     "text": [
      "3 5\n",
      "1 WA\n",
      "2 WA\n",
      "2 WA\n",
      "3 WA\n",
      "1 AC\n",
      "1 4\n"
     ]
    }
   ],
   "source": [
    "N,M=map(int,input().split())\n",
    "P,S=[],[]\n",
    "ans,pen=0,0\n",
    "task=[0]*N\n",
    "for _ in range(M):\n",
    "    A,B=map(str,input().split())\n",
    "    P.append(int(A))\n",
    "    S.append(B)\n",
    "\n",
    "for j in range(M):\n",
    "    if task[P[j]-1]!=-1 and S[j]==\"WA\":\n",
    "        task[P[j]-1]+=1\n",
    "    elif task[P[j]-1]!=-1 and S[j]==\"AC\":\n",
    "        ans+=1\n",
    "        pen+=task[P[j]-1]\n",
    "        task[P[j]-1]=-1\n",
    "print(ans,pen)"
   ]
  },
  {
   "cell_type": "code",
   "execution_count": null,
   "metadata": {},
   "outputs": [],
   "source": [
    "#92 C"
   ]
  },
  {
   "cell_type": "code",
   "execution_count": 7,
   "metadata": {},
   "outputs": [
    {
     "name": "stdout",
     "output_type": "stream",
     "text": [
      "3\n",
      "3 5 -1\n",
      "12\n",
      "8\n",
      "10\n"
     ]
    }
   ],
   "source": [
    "a=int(input())\n",
    "b=list(map(int,input().split()))\n",
    "b=[0]+b+[0]\n",
    "s=0\n",
    "for i in range(1,a+2):\n",
    "    s=s+abs(b[i]-b[i-1])\n",
    "for j in range(1,a+1):\n",
    "    print(s+abs(b[j+1]-b[j-1])-abs(b[j]-b[j-1])-abs(b[j+1]-b[j]))"
   ]
  },
  {
   "cell_type": "code",
   "execution_count": null,
   "metadata": {},
   "outputs": [],
   "source": [
    "#165 D"
   ]
  },
  {
   "cell_type": "code",
   "execution_count": 3,
   "metadata": {},
   "outputs": [
    {
     "name": "stdout",
     "output_type": "stream",
     "text": [
      "11 10 9\n",
      "9\n"
     ]
    }
   ],
   "source": [
    "import math\n",
    "A,B,N=map(int,input().split())\n",
    "a,b,x=0,0.1,1\n",
    "while b>a:\n",
    "    a=math.floor(A*x/B)-A*math.floor(x/B)\n",
    "    b=math.floor(A*(x+1)/B)-A*math.floor((x+1)/B)\n",
    "    x+=1\n",
    "if N<=x:\n",
    "    print(math.floor(A*N/B)-A*math.floor(N/B))\n",
    "else:\n",
    "    print(a)"
   ]
  },
  {
   "cell_type": "code",
   "execution_count": 8,
   "metadata": {},
   "outputs": [
    {
     "name": "stdout",
     "output_type": "stream",
     "text": [
      "11 10 9\n",
      "9\n"
     ]
    }
   ],
   "source": [
    "A,B,N=map(int,input().split())\n",
    "c=min(B-1,N)\n",
    "print(int((A*c-A*c%B)/B))"
   ]
  },
  {
   "cell_type": "code",
   "execution_count": 5,
   "metadata": {},
   "outputs": [],
   "source": [
    "#164 D"
   ]
  },
  {
   "cell_type": "code",
   "execution_count": 37,
   "metadata": {},
   "outputs": [
    {
     "name": "stdout",
     "output_type": "stream",
     "text": [
      "1817181712114\n",
      "3\n"
     ]
    }
   ],
   "source": [
    "a=str(input())\n",
    "ans=0\n",
    "for i in range(len(a)):\n",
    "    for j in range(i+1,len(a)+1):\n",
    "        if int(a[i:j])%2019==0:\n",
    "            ans+=1\n",
    "print(ans)"
   ]
  }
 ],
 "metadata": {
  "kernelspec": {
   "display_name": "Python 3",
   "language": "python",
   "name": "python3"
  },
  "language_info": {
   "codemirror_mode": {
    "name": "ipython",
    "version": 3
   },
   "file_extension": ".py",
   "mimetype": "text/x-python",
   "name": "python",
   "nbconvert_exporter": "python",
   "pygments_lexer": "ipython3",
   "version": "3.7.3"
  }
 },
 "nbformat": 4,
 "nbformat_minor": 2
}
