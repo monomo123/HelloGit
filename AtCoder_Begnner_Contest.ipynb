{
 "cells": [
  {
   "cell_type": "code",
   "execution_count": null,
   "metadata": {},
   "outputs": [],
   "source": [
    "#100 A"
   ]
  },
  {
   "cell_type": "code",
   "execution_count": 2,
   "metadata": {},
   "outputs": [
    {
     "name": "stdout",
     "output_type": "stream",
     "text": [
      "7 7\n",
      "Yay!\n"
     ]
    }
   ],
   "source": [
    "A,B=tuple(map(int,input().split()))\n",
    "if A<=8 and B<=8:\n",
    "    ans=\"Yay!\"\n",
    "else:\n",
    "    ans=\":(\"\n",
    "print(ans)"
   ]
  },
  {
   "cell_type": "code",
   "execution_count": 24,
   "metadata": {},
   "outputs": [],
   "source": [
    "#99 A"
   ]
  },
  {
   "cell_type": "code",
   "execution_count": 28,
   "metadata": {},
   "outputs": [
    {
     "name": "stdout",
     "output_type": "stream",
     "text": [
      "1900\n",
      "ABD\n"
     ]
    }
   ],
   "source": [
    "N=int(input())\n",
    "if N<=999:\n",
    "    print(\"ABC\")\n",
    "else:\n",
    "    print(\"ABD\")"
   ]
  },
  {
   "cell_type": "code",
   "execution_count": null,
   "metadata": {},
   "outputs": [],
   "source": [
    "#98 A"
   ]
  },
  {
   "cell_type": "code",
   "execution_count": 11,
   "metadata": {},
   "outputs": [
    {
     "name": "stdout",
     "output_type": "stream",
     "text": [
      "3 1\n",
      "4\n"
     ]
    }
   ],
   "source": [
    "A,B=map(int,input().split());print(max([A+B,A-B,A*B]))"
   ]
  },
  {
   "cell_type": "code",
   "execution_count": null,
   "metadata": {},
   "outputs": [],
   "source": [
    "#97 A"
   ]
  },
  {
   "cell_type": "code",
   "execution_count": 5,
   "metadata": {},
   "outputs": [
    {
     "name": "stdout",
     "output_type": "stream",
     "text": [
      "100 10 1 2\n",
      "No\n"
     ]
    }
   ],
   "source": [
    "a,b,c,d=map(int,input().split())\n",
    "if abs(c-a)<=d:\n",
    "    print(\"Yes\")\n",
    "elif abs(b-a)<=d and abs(c-b)<=d:\n",
    "    print(\"Yes\")\n",
    "else:\n",
    "    print(\"No\")"
   ]
  },
  {
   "cell_type": "code",
   "execution_count": null,
   "metadata": {},
   "outputs": [],
   "source": [
    "#96 A"
   ]
  },
  {
   "cell_type": "code",
   "execution_count": null,
   "metadata": {},
   "outputs": [],
   "source": [
    "a,b=map(int,input().split())\n",
    "if b>=a:\n",
    "    print(a)\n",
    "else:\n",
    "    print(a-1)"
   ]
  },
  {
   "cell_type": "code",
   "execution_count": null,
   "metadata": {},
   "outputs": [],
   "source": [
    "#95 A"
   ]
  },
  {
   "cell_type": "code",
   "execution_count": 3,
   "metadata": {},
   "outputs": [
    {
     "name": "stdout",
     "output_type": "stream",
     "text": [
      "ooo\n",
      "1000\n"
     ]
    }
   ],
   "source": [
    "S=input()\n",
    "ans=700\n",
    "for i in range(3):\n",
    "    if S[i]==\"o\":\n",
    "        ans+=100\n",
    "print(ans)"
   ]
  },
  {
   "cell_type": "code",
   "execution_count": null,
   "metadata": {},
   "outputs": [],
   "source": [
    "#94 A"
   ]
  },
  {
   "cell_type": "code",
   "execution_count": 6,
   "metadata": {},
   "outputs": [
    {
     "name": "stdout",
     "output_type": "stream",
     "text": [
      "3 5 4\n",
      "YES\n"
     ]
    }
   ],
   "source": [
    "a,b,c=map(int,input().split())\n",
    "if a<=c and a+b>=c:\n",
    "    print(\"YES\")\n",
    "else:\n",
    "    print(\"NO\")"
   ]
  },
  {
   "cell_type": "code",
   "execution_count": null,
   "metadata": {},
   "outputs": [],
   "source": [
    "#93 A"
   ]
  },
  {
   "cell_type": "code",
   "execution_count": 5,
   "metadata": {
    "scrolled": true
   },
   "outputs": [
    {
     "name": "stdout",
     "output_type": "stream",
     "text": [
      "bcb\n",
      "No\n"
     ]
    }
   ],
   "source": [
    "a=input()\n",
    "if a[1]!=a[2] and a[2]!=a[0] and a[0]!=a[1]:\n",
    "    print(\"Yes\")\n",
    "else:\n",
    "    print(\"No\")"
   ]
  },
  {
   "cell_type": "code",
   "execution_count": 4,
   "metadata": {},
   "outputs": [],
   "source": [
    "#126 B"
   ]
  },
  {
   "cell_type": "code",
   "execution_count": null,
   "metadata": {},
   "outputs": [],
   "source": [
    "S=input()\n",
    "A=int(S[0:2])\n",
    "B=int(S[2:4])\n",
    "if 1<=A<=12:\n",
    "    if 1<=B<=12:\n",
    "        ans=\"AMBIGUOUS\"\n",
    "    else:\n",
    "        ans=\"MMYY\"\n",
    "else:\n",
    "    if 1<=B<=12:\n",
    "        ans=\"YYMM\"\n",
    "    else:\n",
    "        ans=\"NA\"\n",
    "print(ans)"
   ]
  },
  {
   "cell_type": "code",
   "execution_count": null,
   "metadata": {},
   "outputs": [],
   "source": [
    "#125 B"
   ]
  },
  {
   "cell_type": "code",
   "execution_count": 9,
   "metadata": {},
   "outputs": [
    {
     "name": "stdout",
     "output_type": "stream",
     "text": [
      "3\n",
      "10 8 10\n",
      "10 10 3\n",
      "7\n"
     ]
    }
   ],
   "source": [
    "N=int(input())\n",
    "A=list(map(int,input().split()))\n",
    "B=list(map(int,input().split()))\n",
    "ans=0\n",
    "for i in range(N):\n",
    "    if A[i]-B[i]>=0:\n",
    "        ans +=A[i]-B[i]\n",
    "print(ans)"
   ]
  },
  {
   "cell_type": "code",
   "execution_count": 1,
   "metadata": {},
   "outputs": [],
   "source": [
    "#124 B"
   ]
  },
  {
   "cell_type": "code",
   "execution_count": 32,
   "metadata": {},
   "outputs": [
    {
     "name": "stdout",
     "output_type": "stream",
     "text": [
      "5\n",
      "9 9 9 9 9\n",
      "5\n"
     ]
    }
   ],
   "source": [
    "N=input()\n",
    "A=list(map(int,input().split()))\n",
    "ans=0\n",
    "for i in range(int(N)):\n",
    "    B=0\n",
    "    for j in range(i):\n",
    "        if A[i]-A[j]>=0:\n",
    "            B+=1\n",
    "    if B==i:\n",
    "        ans+=1\n",
    "print(ans)    "
   ]
  },
  {
   "cell_type": "code",
   "execution_count": null,
   "metadata": {},
   "outputs": [],
   "source": [
    "#123 B"
   ]
  },
  {
   "cell_type": "code",
   "execution_count": 2,
   "metadata": {},
   "outputs": [
    {
     "name": "stdout",
     "output_type": "stream",
     "text": [
      "10\n",
      "20\n",
      "30\n",
      "40\n",
      "50\n",
      "150\n"
     ]
    }
   ],
   "source": [
    "A=[int(input()) for i in range(5)]\n",
    "ans=0\n",
    "for i in range(5):\n",
    "    if A[i]%10==0:\n",
    "        ans+=A[i]\n",
    "        A[i]=0\n",
    "B=[str(i) for i in A]\n",
    "C=[B[i][-1] for i in range(5)]\n",
    "C=[int(C[i]) for i in range(5)]\n",
    "D=[None]*5\n",
    "for i in range(5):\n",
    "    D[i]=int(B[i])-int(C[i])\n",
    "E=list([n for n in(sorted(C,reverse=True)) if n>0])\n",
    "for i in range(len(E)-1):\n",
    "    ans+=10\n",
    "try:\n",
    "    ans=ans+E[-1]+int(sum(D))\n",
    "except(IndexError):\n",
    "    ans=ans+int(sum(D))\n",
    "print(ans)"
   ]
  },
  {
   "cell_type": "code",
   "execution_count": null,
   "metadata": {},
   "outputs": [],
   "source": [
    "#122 B"
   ]
  },
  {
   "cell_type": "code",
   "execution_count": 2,
   "metadata": {},
   "outputs": [
    {
     "name": "stdout",
     "output_type": "stream",
     "text": [
      "ATCODER\n",
      "3\n"
     ]
    }
   ],
   "source": [
    "S=input()\n",
    "start=1\n",
    "end=0\n",
    "ans=[]\n",
    "for _ in range(len(S)):\n",
    "    for i in range(len(S))[end:]:\n",
    "        if S[i] in {\"A\",\"C\",\"G\",\"T\"}:\n",
    "            start=i\n",
    "            break\n",
    "    for j in range(len(S))[start:len(S)]:\n",
    "        end=len(S)\n",
    "        if S[j] not in {\"A\",\"C\",\"G\",\"T\"}:\n",
    "            end=j\n",
    "            break\n",
    "    ans.append(end-start)\n",
    "if max(ans)<0:print(0)\n",
    "else:print(max(ans))"
   ]
  },
  {
   "cell_type": "code",
   "execution_count": null,
   "metadata": {},
   "outputs": [],
   "source": [
    "#121 B"
   ]
  },
  {
   "cell_type": "code",
   "execution_count": null,
   "metadata": {},
   "outputs": [],
   "source": [
    "a=tuple(map(int,input().split()))\n",
    "b=[]\n",
    "for i in range(a[0]+1):\n",
    "    b.append(list(map(int,input().split())))\n",
    "ans=0\n",
    "s=0\n",
    "for j in range(a[0]+1)[1:a[0]+1]:\n",
    "    for k in range(a[1]):\n",
    "        s+=b[j][k]*b[0][k]\n",
    "    s+=a[2]\n",
    "    if s>0:\n",
    "        ans+=1\n",
    "    s=0\n",
    "print(ans)"
   ]
  },
  {
   "cell_type": "code",
   "execution_count": null,
   "metadata": {},
   "outputs": [],
   "source": [
    "#120 B"
   ]
  },
  {
   "cell_type": "code",
   "execution_count": 22,
   "metadata": {},
   "outputs": [
    {
     "name": "stdout",
     "output_type": "stream",
     "text": [
      "1 1 1\n",
      "1\n"
     ]
    }
   ],
   "source": [
    "a,b,c=tuple(map(int,input().split()))\n",
    "ans=[]\n",
    "for i in range(min(a,b)+1)[1:min(a,b)+1]:\n",
    "    if a%i==0 and b%i==0:\n",
    "        ans.append(i)\n",
    "print(sorted(ans,reverse=True)[c-1])"
   ]
  },
  {
   "cell_type": "code",
   "execution_count": null,
   "metadata": {},
   "outputs": [],
   "source": []
  }
 ],
 "metadata": {
  "kernelspec": {
   "display_name": "Python 3",
   "language": "python",
   "name": "python3"
  },
  "language_info": {
   "codemirror_mode": {
    "name": "ipython",
    "version": 3
   },
   "file_extension": ".py",
   "mimetype": "text/x-python",
   "name": "python",
   "nbconvert_exporter": "python",
   "pygments_lexer": "ipython3",
   "version": "3.7.3"
  }
 },
 "nbformat": 4,
 "nbformat_minor": 2
}
