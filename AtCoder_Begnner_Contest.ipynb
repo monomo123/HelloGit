{
 "cells": [
  {
   "cell_type": "code",
   "execution_count": null,
   "metadata": {},
   "outputs": [],
   "source": [
    "#126 B"
   ]
  },
  {
   "cell_type": "code",
   "execution_count": null,
   "metadata": {},
   "outputs": [],
   "source": [
    "S=input()\n",
    "A=int(S[0:2])\n",
    "B=int(S[2:4])\n",
    "if 1<=A<=12:\n",
    "    if 1<=B<=12:\n",
    "        ans=\"AMBIGUOUS\"\n",
    "    else:\n",
    "        ans=\"MMYY\"\n",
    "else:\n",
    "    if 1<=B<=12:\n",
    "        ans=\"YYMM\"\n",
    "    else:\n",
    "        ans=\"NA\"\n",
    "print(ans)"
   ]
  }
 ],
 "metadata": {
  "kernelspec": {
   "display_name": "Python 3",
   "language": "python",
   "name": "python3"
  },
  "language_info": {
   "codemirror_mode": {
    "name": "ipython",
    "version": 3
   },
   "file_extension": ".py",
   "mimetype": "text/x-python",
   "name": "python",
   "nbconvert_exporter": "python",
   "pygments_lexer": "ipython3",
   "version": "3.7.3"
  }
 },
 "nbformat": 4,
 "nbformat_minor": 2
}
